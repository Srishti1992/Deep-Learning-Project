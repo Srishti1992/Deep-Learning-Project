{
  "nbformat": 4,
  "nbformat_minor": 0,
  "metadata": {
    "kernelspec": {
      "name": "python3",
      "display_name": "Python 3"
    },
    "language_info": {
      "codemirror_mode": {
        "name": "ipython",
        "version": 3
      },
      "file_extension": ".py",
      "mimetype": "text/x-python",
      "name": "python",
      "nbconvert_exporter": "python",
      "pygments_lexer": "ipython3",
      "version": "3.7.3"
    },
    "colab": {
      "name": "Music_Note_Model.ipynb",
      "provenance": [],
      "collapsed_sections": [],
      "toc_visible": true
    },
    "accelerator": "GPU"
  },
  "cells": [
    {
      "cell_type": "markdown",
      "metadata": {
        "id": "A4OrJKeGMo0u",
        "colab_type": "text"
      },
      "source": [
        "Mount drive, if you want to run all the code to in sequence, please remember to empty out the img_data directory"
      ]
    },
    {
      "cell_type": "code",
      "metadata": {
        "id": "tiQOr2L5Dlcb",
        "colab_type": "code",
        "colab": {
          "base_uri": "https://localhost:8080/",
          "height": 118
        },
        "outputId": "1e7d0650-c324-422a-8e1b-b2fa57faf555"
      },
      "source": [
        "from google.colab import drive\n",
        "drive.mount('/content/drive')"
      ],
      "execution_count": null,
      "outputs": [
        {
          "output_type": "stream",
          "text": [
            "Go to this URL in a browser: https://accounts.google.com/o/oauth2/auth?client_id=947318989803-6bn6qk8qdgf4n4g3pfee6491hc0brc4i.apps.googleusercontent.com&redirect_uri=urn%3aietf%3awg%3aoauth%3a2.0%3aoob&response_type=code&scope=email%20https%3a%2f%2fwww.googleapis.com%2fauth%2fdocs.test%20https%3a%2f%2fwww.googleapis.com%2fauth%2fdrive%20https%3a%2f%2fwww.googleapis.com%2fauth%2fdrive.photos.readonly%20https%3a%2f%2fwww.googleapis.com%2fauth%2fpeopleapi.readonly\n",
            "\n",
            "Enter your authorization code:\n",
            "··········\n",
            "Mounted at /content/drive\n"
          ],
          "name": "stdout"
        }
      ]
    },
    {
      "cell_type": "markdown",
      "metadata": {
        "id": "gj8Uuxf25u3H",
        "colab_type": "text"
      },
      "source": [
        "### Packages Loading"
      ]
    },
    {
      "cell_type": "code",
      "metadata": {
        "id": "UAqNK0Z9DhZa",
        "colab_type": "code",
        "colab": {
          "base_uri": "https://localhost:8080/",
          "height": 66
        },
        "outputId": "ef1b6584-8a68-41ff-fcef-e6f6f764836e"
      },
      "source": [
        "# import general necessary packages\n",
        "from sklearn import metrics\n",
        "import pandas as pd\n",
        "import tensorflow as tf\n",
        "import numpy as np\n",
        "import matplotlib.pyplot as plt\n",
        "import os, cv2\n",
        "# import the necessary packages \n",
        "from tensorflow.python.keras.models import Sequential\n",
        "from tensorflow.python.keras.layers.convolutional import Conv2D\n",
        "from tensorflow.python.keras.layers.convolutional import MaxPooling2D\n",
        "from tensorflow.python.keras.layers.core import Activation\n",
        "from tensorflow.python.keras.layers.core import Dropout\n",
        "from tensorflow.python.keras.layers.core import Dense\n",
        "from tensorflow.python.keras.layers import Flatten\n",
        "from tensorflow.python.keras.layers import Input\n",
        "from tensorflow.python.keras.models import Model\n",
        "from tensorflow.python.keras.optimizers import Adam, RMSprop\n",
        "from numpy.random import seed\n",
        "#from tensorflow import set_random_seed\n",
        "from numpy import savez_compressed\n",
        "from tensorflow.python.keras.callbacks import EarlyStopping\n",
        "from sklearn.model_selection import train_test_split\n",
        "from scipy.io.wavfile import read\n",
        "from os import walk\n",
        "import librosa\n",
        "%matplotlib inline\n",
        "from PIL import Image\n",
        "import pathlib\n",
        "import csv\n",
        "from sklearn.preprocessing import LabelEncoder, StandardScaler\n",
        "import keras\n",
        "from matplotlib import pyplot\n",
        "from tensorflow.python.keras import layers\n",
        "from tensorflow.python.keras.layers import GlobalMaxPooling2D, GlobalAveragePooling1D, AveragePooling2D, Input, Add\n",
        "from tensorflow.python.keras.optimizers import SGD\n",
        "from numpy import argmax\n",
        "from tensorflow.python.keras.preprocessing.image import ImageDataGenerator\n",
        "import seaborn as sns\n",
        "import glob"
      ],
      "execution_count": null,
      "outputs": [
        {
          "output_type": "stream",
          "text": [
            "Using TensorFlow backend.\n",
            "/usr/local/lib/python3.6/dist-packages/statsmodels/tools/_testing.py:19: FutureWarning: pandas.util.testing is deprecated. Use the functions in the public API at pandas.testing instead.\n",
            "  import pandas.util.testing as tm\n"
          ],
          "name": "stderr"
        }
      ]
    },
    {
      "cell_type": "markdown",
      "metadata": {
        "id": "aa6kBQ5X536c",
        "colab_type": "text"
      },
      "source": [
        "### Data Loading (Please upload my file directory and use those paths to be able to run this code), unless you are sharing/mounting my project folder link"
      ]
    },
    {
      "cell_type": "markdown",
      "metadata": {
        "id": "b-xStPdMr_ML",
        "colab_type": "text"
      },
      "source": [
        "#### Image Data"
      ]
    },
    {
      "cell_type": "code",
      "metadata": {
        "id": "whWQxzMdmk0O",
        "colab_type": "code",
        "colab": {}
      },
      "source": [
        "#This converts the sound/.wav files into spectograms, you shouldn't need to run this as it's already been done, running this again will increase the images in the directory so they'd need to be deleted first in the img_data directory\n",
        "cmap = plt.get_cmap('inferno')\n",
        "plt.figure(figsize=(8,8))\n",
        "for filename in os.listdir(f'/content/drive/My Drive/Colab Notebooks/project/All Audio Samples - Augmented'): #directory for the audio samples (doubled for each origianl file 185 x 2)\n",
        "  Data = f'/content/drive/My Drive/Colab Notebooks/project/All Audio Samples - Augmented/{filename}'\n",
        "  y, sr = librosa.load(Data, mono=True, duration=1.5)\n",
        "  plt.specgram(y, NFFT=2048, Fs=2, Fc=0, noverlap=128, cmap=cmap, sides='default', mode='default', scale='dB');\n",
        "  plt.axis('off');\n",
        "  plt.savefig(f'/content/drive/My Drive/Colab Notebooks/project/img_data/{filename[:-3].replace(\".\", \"\")}.png') #directory for the image data from the sound files\n",
        "  plt.clf()\n",
        "      "
      ],
      "execution_count": null,
      "outputs": []
    },
    {
      "cell_type": "code",
      "metadata": {
        "id": "0LC2534P6RHz",
        "colab_type": "code",
        "colab": {}
      },
      "source": [
        "header = 'filename' #creates headers for csv file below, please run this\n",
        "for i in range(1, 1):\n",
        "    header += f' mfcc{i}'\n",
        "header = header.split()"
      ],
      "execution_count": null,
      "outputs": []
    },
    {
      "cell_type": "code",
      "metadata": {
        "id": "JEu0HRCgWIFD",
        "colab_type": "code",
        "colab": {}
      },
      "source": [
        "#Don't Rerun this unless you need to rename images.\n",
        "c=1\n",
        "# get a recursive list of file paths that matches pattern including sub directories\n",
        "fileList = glob.glob(r'/content/drive/My Drive/Derek Chauvin Identifier/img_data/*.png', recursive=True)\n",
        "# Iterate over the list of filepaths & remove/rename each file.\n",
        "for filePath in fileList:\n",
        "    try:\n",
        "        #os.remove(filePath) #removes the file\n",
        "        os.rename(filePath, r'/content/drive/My Drive/Derek Chauvin Identifier/img_data/' + str(c) +'.png') #renames the file\n",
        "        c = c+1\n",
        "    except OSError:\n",
        "        print(\"Error while renaming file\")"
      ],
      "execution_count": null,
      "outputs": []
    },
    {
      "cell_type": "code",
      "metadata": {
        "id": "eWHRQDJ8gc7i",
        "colab_type": "code",
        "colab": {}
      },
      "source": [
        "file = open('dataset.csv', 'w', newline='')\n",
        "with file:\n",
        "    writer = csv.writer(file)\n",
        "    writer.writerow(header)\n",
        "for filename in os.listdir(f'/content/drive/My Drive/Derek Chauvin Identifier/img_data'):\n",
        "  to_append = f'{filename}'    #file name compilation\n",
        "  file = open('dataset.csv', 'a', newline='')\n",
        "  with file:\n",
        "      writer = csv.writer(file)\n",
        "      writer.writerow(to_append.split())\n"
      ],
      "execution_count": null,
      "outputs": []
    },
    {
      "cell_type": "markdown",
      "metadata": {
        "id": "HO5UdqrXG-XX",
        "colab_type": "text"
      },
      "source": [
        "Displaying simple wave plot (all plots are of C#3)"
      ]
    },
    {
      "cell_type": "code",
      "metadata": {
        "id": "yMg3XkM2Cbr5",
        "colab_type": "code",
        "colab": {
          "base_uri": "https://localhost:8080/",
          "height": 366
        },
        "outputId": "4c9d8434-a19b-4872-8739-93a7defe1454"
      },
      "source": [
        "audio_data = '/content/drive/My Drive/Colab Notebooks/project/All Audio Samples - Augmented/C#3-2.wav'\n",
        "x , sr = librosa.load(audio_data)\n",
        "print(type(x), type(sr))\n",
        "import matplotlib.pyplot as plt\n",
        "import librosa.display\n",
        "plt.figure(figsize=(14, 5))\n",
        "librosa.display.waveplot(x, sr=sr)"
      ],
      "execution_count": null,
      "outputs": [
        {
          "output_type": "stream",
          "text": [
            "<class 'numpy.ndarray'> <class 'int'>\n"
          ],
          "name": "stdout"
        },
        {
          "output_type": "execute_result",
          "data": {
            "text/plain": [
              "<matplotlib.collections.PolyCollection at 0x7f59c8807588>"
            ]
          },
          "metadata": {
            "tags": []
          },
          "execution_count": 35
        },
        {
          "output_type": "display_data",
          "data": {
            "image/png": "[encoded data removed]",
            "text/plain": [
              "<Figure size 1008x360 with 1 Axes>"
            ]
          },
          "metadata": {
            "tags": [],
            "needs_background": "light"
          }
        }
      ]
    },
    {
      "cell_type": "markdown",
      "metadata": {
        "id": "wPDbkalVHEAg",
        "colab_type": "text"
      },
      "source": [
        "Spectrogram plot"
      ]
    },
    {
      "cell_type": "code",
      "metadata": {
        "id": "Ql8tg4l4DD2x",
        "colab_type": "code",
        "colab": {
          "base_uri": "https://localhost:8080/",
          "height": 350
        },
        "outputId": "e4c6fb85-310a-4387-90a1-566146a23b12"
      },
      "source": [
        "X = librosa.stft(x)\n",
        "Xdb = librosa.amplitude_to_db(abs(X))\n",
        "plt.figure(figsize=(14, 5))\n",
        "librosa.display.specshow(Xdb, sr=sr, x_axis='time', y_axis='hz')\n",
        "plt.colorbar()\n",
        "librosa.display.specshow(Xdb, sr=sr, x_axis='time', y_axis='log')\n",
        "plt.colorbar()"
      ],
      "execution_count": null,
      "outputs": [
        {
          "output_type": "execute_result",
          "data": {
            "text/plain": [
              "<matplotlib.colorbar.Colorbar at 0x7f59cd1b48d0>"
            ]
          },
          "metadata": {
            "tags": []
          },
          "execution_count": 11
        },
        {
          "output_type": "display_data",
          "data": {
            "image/png": "[encoded data removed]",
            "text/plain": [
              "<Figure size 1008x360 with 3 Axes>"
            ]
          },
          "metadata": {
            "tags": [],
            "needs_background": "light"
          }
        }
      ]
    },
    {
      "cell_type": "markdown",
      "metadata": {
        "id": "VRPbCfqjHL-w",
        "colab_type": "text"
      },
      "source": [
        "Plot of spectral centroid"
      ]
    },
    {
      "cell_type": "code",
      "metadata": {
        "id": "NqJOO7NiDbdq",
        "colab_type": "code",
        "colab": {
          "base_uri": "https://localhost:8080/",
          "height": 295
        },
        "outputId": "b4b46fcc-f77f-4e29-8714-52ab04db50b9"
      },
      "source": [
        "import sklearn\n",
        "spectral_centroids = librosa.feature.spectral_centroid(x, sr=sr)[0]\n",
        "spectral_centroids.shape\n",
        "# Computing the time variable for visualization\n",
        "plt.figure(figsize=(12, 4))\n",
        "frames = range(len(spectral_centroids))\n",
        "t = librosa.frames_to_time(frames)\n",
        "# Normalising the spectral centroid for visualisation\n",
        "def normalize(x, axis=0):\n",
        "    return sklearn.preprocessing.minmax_scale(x, axis=axis)\n",
        "#Plotting the Spectral Centroid along the waveform\n",
        "librosa.display.waveplot(x, sr=sr, alpha=0.4)\n",
        "plt.plot(t, normalize(spectral_centroids), color='b')"
      ],
      "execution_count": null,
      "outputs": [
        {
          "output_type": "execute_result",
          "data": {
            "text/plain": [
              "[<matplotlib.lines.Line2D at 0x7f59cd12f630>]"
            ]
          },
          "metadata": {
            "tags": []
          },
          "execution_count": 14
        },
        {
          "output_type": "display_data",
          "data": {
            "image/png": "[encoded data removed]",
            "text/plain": [
              "<Figure size 864x288 with 1 Axes>"
            ]
          },
          "metadata": {
            "tags": [],
            "needs_background": "light"
          }
        }
      ]
    },
    {
      "cell_type": "markdown",
      "metadata": {
        "id": "TehTVWY3HOd_",
        "colab_type": "text"
      },
      "source": [
        "plot of spectral rolloff"
      ]
    },
    {
      "cell_type": "code",
      "metadata": {
        "id": "EDii_h2XD7Ir",
        "colab_type": "code",
        "colab": {
          "base_uri": "https://localhost:8080/",
          "height": 295
        },
        "outputId": "40e7f515-e826-4930-f87e-19b616afc865"
      },
      "source": [
        "spectral_rolloff = librosa.feature.spectral_rolloff(x+0.01, sr=sr)[0]\n",
        "plt.figure(figsize=(12, 4))\n",
        "librosa.display.waveplot(x, sr=sr, alpha=0.4)\n",
        "plt.plot(t, normalize(spectral_rolloff), color='r')"
      ],
      "execution_count": null,
      "outputs": [
        {
          "output_type": "execute_result",
          "data": {
            "text/plain": [
              "[<matplotlib.lines.Line2D at 0x7f59cd867470>]"
            ]
          },
          "metadata": {
            "tags": []
          },
          "execution_count": 16
        },
        {
          "output_type": "display_data",
          "data": {
            "image/png": "[encoded data removed]",
            "text/plain": [
              "<Figure size 864x288 with 1 Axes>"
            ]
          },
          "metadata": {
            "tags": [],
            "needs_background": "light"
          }
        }
      ]
    },
    {
      "cell_type": "markdown",
      "metadata": {
        "id": "6Kev2DYwHR5X",
        "colab_type": "text"
      },
      "source": [
        "plot of spectral bandwidth"
      ]
    },
    {
      "cell_type": "code",
      "metadata": {
        "id": "7-366FIEELA8",
        "colab_type": "code",
        "colab": {
          "base_uri": "https://localhost:8080/",
          "height": 567
        },
        "outputId": "86577cc8-3d7d-4d74-ad6b-8869b4ebdcf4"
      },
      "source": [
        "spectral_bandwidth_2 = librosa.feature.spectral_bandwidth(x+0.01, sr=sr)[0]\n",
        "spectral_bandwidth_3 = librosa.feature.spectral_bandwidth(x+0.01, sr=sr, p=3)[0]\n",
        "spectral_bandwidth_4 = librosa.feature.spectral_bandwidth(x+0.01, sr=sr, p=4)[0]\n",
        "plt.figure(figsize=(15, 9))\n",
        "librosa.display.waveplot(x, sr=sr, alpha=0.4)\n",
        "plt.plot(t, normalize(spectral_bandwidth_2), color='r')\n",
        "plt.plot(t, normalize(spectral_bandwidth_3), color='g')\n",
        "plt.plot(t, normalize(spectral_bandwidth_4), color='y')\n",
        "plt.legend(('p = 2', 'p = 3', 'p = 4'))"
      ],
      "execution_count": null,
      "outputs": [
        {
          "output_type": "execute_result",
          "data": {
            "text/plain": [
              "<matplotlib.legend.Legend at 0x7f59cd14f668>"
            ]
          },
          "metadata": {
            "tags": []
          },
          "execution_count": 18
        },
        {
          "output_type": "display_data",
          "data": {
            "image/png": "[encoded data removed]",
            "text/plain": [
              "<Figure size 1080x648 with 1 Axes>"
            ]
          },
          "metadata": {
            "tags": [],
            "needs_background": "light"
          }
        }
      ]
    },
    {
      "cell_type": "markdown",
      "metadata": {
        "id": "6ZeuwdxfHUSn",
        "colab_type": "text"
      },
      "source": [
        "plot of zero cross rate"
      ]
    },
    {
      "cell_type": "code",
      "metadata": {
        "id": "OAc2ZmwZEuiN",
        "colab_type": "code",
        "colab": {
          "base_uri": "https://localhost:8080/",
          "height": 653
        },
        "outputId": "502ee861-80e2-4dc4-b4e1-714ad3717979"
      },
      "source": [
        "#Plot signal:\n",
        "plt.figure(figsize=(14, 5))\n",
        "librosa.display.waveplot(x, sr=sr)\n",
        "# Zoom in\n",
        "n0 = 9000\n",
        "n1 = 9100\n",
        "plt.figure(figsize=(14, 5))\n",
        "plt.plot(x[n0:n1])\n",
        "plt.grid()\n",
        "zero_crossings = librosa.zero_crossings(x[n0:n1], pad=False)\n",
        "print(sum(zero_crossings))#6 crosses"
      ],
      "execution_count": null,
      "outputs": [
        {
          "output_type": "stream",
          "text": [
            "6\n"
          ],
          "name": "stdout"
        },
        {
          "output_type": "display_data",
          "data": {
            "image/png": "[encoded data removed]",
            "text/plain": [
              "<Figure size 1008x360 with 1 Axes>"
            ]
          },
          "metadata": {
            "tags": [],
            "needs_background": "light"
          }
        },
        {
          "output_type": "display_data",
          "data": {
            "image/png": "[encoded data removed]",
            "text/plain": [
              "<Figure size 1008x360 with 1 Axes>"
            ]
          },
          "metadata": {
            "tags": [],
            "needs_background": "light"
          }
        }
      ]
    },
    {
      "cell_type": "markdown",
      "metadata": {
        "id": "_6wSiiuuHZJ8",
        "colab_type": "text"
      },
      "source": [
        "plot of MFCC"
      ]
    },
    {
      "cell_type": "code",
      "metadata": {
        "id": "guz8fnQ7FYDM",
        "colab_type": "code",
        "colab": {
          "base_uri": "https://localhost:8080/",
          "height": 475
        },
        "outputId": "8d1ec18c-b1f4-447b-db1f-6e9880930933"
      },
      "source": [
        "mfccs = librosa.feature.mfcc(x, sr=sr)\n",
        "print(mfccs.shape)\n",
        "(20, 52)\n",
        "#Displaying  the MFCCs:\n",
        "plt.figure(figsize=(15, 7))\n",
        "librosa.display.specshow(mfccs, sr=sr, x_axis='time')"
      ],
      "execution_count": null,
      "outputs": [
        {
          "output_type": "stream",
          "text": [
            "(20, 52)\n"
          ],
          "name": "stdout"
        },
        {
          "output_type": "execute_result",
          "data": {
            "text/plain": [
              "<matplotlib.axes._subplots.AxesSubplot at 0x7f59cd0183c8>"
            ]
          },
          "metadata": {
            "tags": []
          },
          "execution_count": 27
        },
        {
          "output_type": "display_data",
          "data": {
            "image/png": "[encoded data removed]",
            "text/plain": [
              "<Figure size 1080x504 with 1 Axes>"
            ]
          },
          "metadata": {
            "tags": [],
            "needs_background": "light"
          }
        }
      ]
    },
    {
      "cell_type": "markdown",
      "metadata": {
        "id": "HR9OF4-jHb2u",
        "colab_type": "text"
      },
      "source": [
        "Plot of Chroma short term fourier transform (stft)"
      ]
    },
    {
      "cell_type": "code",
      "metadata": {
        "id": "5Ws6Er8vEIEF",
        "colab_type": "code",
        "colab": {
          "base_uri": "https://localhost:8080/",
          "height": 350
        },
        "outputId": "4d70a788-fc0f-4ce8-e15c-9f8b2584b587"
      },
      "source": [
        "chromagram = librosa.feature.chroma_stft(x, sr=sr, hop_length=1)\n",
        "plt.figure(figsize=(15, 5))\n",
        "librosa.display.specshow(chromagram, x_axis='time', y_axis='chroma', hop_length=1, cmap='coolwarm')"
      ],
      "execution_count": null,
      "outputs": [
        {
          "output_type": "execute_result",
          "data": {
            "text/plain": [
              "<matplotlib.axes._subplots.AxesSubplot at 0x7f59c88c6f28>"
            ]
          },
          "metadata": {
            "tags": []
          },
          "execution_count": 36
        },
        {
          "output_type": "display_data",
          "data": {
            "image/png": "[encoded data removed]",
            "text/plain": [
              "<Figure size 1080x360 with 1 Axes>"
            ]
          },
          "metadata": {
            "tags": [],
            "needs_background": "light"
          }
        }
      ]
    },
    {
      "cell_type": "code",
      "metadata": {
        "id": "BATnW9u-85PD",
        "colab_type": "code",
        "colab": {
          "base_uri": "https://localhost:8080/",
          "height": 367
        },
        "outputId": "6c927adb-d7e3-4635-e1f7-2139a269d65c"
      },
      "source": [
        "#reading the created csv file from before here, and sorting them, please run this\n",
        "data = pd.read_csv('dataset.csv')\n",
        "data.sort_values(by=['filename'],inplace=True,ascending=True,ignore_index=True)\n",
        "print(data['filename'][23752])\n",
        "print(len(data['filename']))\n",
        "data.to_csv(r'/content/drive/My Drive/Derek Chauvin Identifier/dataset.csv',index = None, header=True)\n",
        "data.tail(10)"
      ],
      "execution_count": null,
      "outputs": [
        {
          "output_type": "stream",
          "text": [
            "chauvin9-1.png\n",
            "23753\n"
          ],
          "name": "stdout"
        },
        {
          "output_type": "execute_result",
          "data": {
            "text/html": [
              "<div>\n",
              "<style scoped>\n",
              "    .dataframe tbody tr th:only-of-type {\n",
              "        vertical-align: middle;\n",
              "    }\n",
              "\n",
              "    .dataframe tbody tr th {\n",
              "        vertical-align: top;\n",
              "    }\n",
              "\n",
              "    .dataframe thead th {\n",
              "        text-align: right;\n",
              "    }\n",
              "</style>\n",
              "<table border=\"1\" class=\"dataframe\">\n",
              "  <thead>\n",
              "    <tr style=\"text-align: right;\">\n",
              "      <th></th>\n",
              "      <th>filename</th>\n",
              "    </tr>\n",
              "  </thead>\n",
              "  <tbody>\n",
              "    <tr>\n",
              "      <th>23743</th>\n",
              "      <td>chauvin16-1.png</td>\n",
              "    </tr>\n",
              "    <tr>\n",
              "      <th>23744</th>\n",
              "      <td>chauvin17-1.png</td>\n",
              "    </tr>\n",
              "    <tr>\n",
              "      <th>23745</th>\n",
              "      <td>chauvin2-1.png</td>\n",
              "    </tr>\n",
              "    <tr>\n",
              "      <th>23746</th>\n",
              "      <td>chauvin3-1.png</td>\n",
              "    </tr>\n",
              "    <tr>\n",
              "      <th>23747</th>\n",
              "      <td>chauvin4-1.png</td>\n",
              "    </tr>\n",
              "    <tr>\n",
              "      <th>23748</th>\n",
              "      <td>chauvin5-1.png</td>\n",
              "    </tr>\n",
              "    <tr>\n",
              "      <th>23749</th>\n",
              "      <td>chauvin6-1.png</td>\n",
              "    </tr>\n",
              "    <tr>\n",
              "      <th>23750</th>\n",
              "      <td>chauvin7-1.png</td>\n",
              "    </tr>\n",
              "    <tr>\n",
              "      <th>23751</th>\n",
              "      <td>chauvin8-1.png</td>\n",
              "    </tr>\n",
              "    <tr>\n",
              "      <th>23752</th>\n",
              "      <td>chauvin9-1.png</td>\n",
              "    </tr>\n",
              "  </tbody>\n",
              "</table>\n",
              "</div>"
            ],
            "text/plain": [
              "              filename\n",
              "23743  chauvin16-1.png\n",
              "23744  chauvin17-1.png\n",
              "23745   chauvin2-1.png\n",
              "23746   chauvin3-1.png\n",
              "23747   chauvin4-1.png\n",
              "23748   chauvin5-1.png\n",
              "23749   chauvin6-1.png\n",
              "23750   chauvin7-1.png\n",
              "23751   chauvin8-1.png\n",
              "23752   chauvin9-1.png"
            ]
          },
          "metadata": {
            "tags": []
          },
          "execution_count": 39
        }
      ]
    },
    {
      "cell_type": "code",
      "metadata": {
        "id": "T0vUI_iL9DCr",
        "colab_type": "code",
        "colab": {
          "base_uri": "https://localhost:8080/",
          "height": 391
        },
        "outputId": "bad570e0-109b-4fa4-83ca-90ddbea2c007"
      },
      "source": [
        "\n",
        "#I had to append manually four columns to match up the dataset to y values, my file \"datasetEnhancedAug.csv\" is required to do this\n",
        "data2 = pd.read_csv('/content/drive/My Drive/Derek Chauvin Identifier/datasetaug.csv')\n",
        "#data2.sort_values(by=['filename'],inplace=True)\n",
        "data2\n",
        "#data = data.merge(data2, left_on='filename', right_on='filename')\n",
        "#data.to_csv(r'/content/drive/My Drive/Colab Notebooks/project/dataset.csv',index = None, header=True)\n",
        "#data"
      ],
      "execution_count": null,
      "outputs": [
        {
          "output_type": "execute_result",
          "data": {
            "text/html": [
              "<div>\n",
              "<style scoped>\n",
              "    .dataframe tbody tr th:only-of-type {\n",
              "        vertical-align: middle;\n",
              "    }\n",
              "\n",
              "    .dataframe tbody tr th {\n",
              "        vertical-align: top;\n",
              "    }\n",
              "\n",
              "    .dataframe thead th {\n",
              "        text-align: right;\n",
              "    }\n",
              "</style>\n",
              "<table border=\"1\" class=\"dataframe\">\n",
              "  <thead>\n",
              "    <tr style=\"text-align: right;\">\n",
              "      <th></th>\n",
              "      <th>filename</th>\n",
              "      <th>ischauv</th>\n",
              "    </tr>\n",
              "  </thead>\n",
              "  <tbody>\n",
              "    <tr>\n",
              "      <th>0</th>\n",
              "      <td>1.png</td>\n",
              "      <td>0</td>\n",
              "    </tr>\n",
              "    <tr>\n",
              "      <th>1</th>\n",
              "      <td>10.png</td>\n",
              "      <td>0</td>\n",
              "    </tr>\n",
              "    <tr>\n",
              "      <th>2</th>\n",
              "      <td>100.png</td>\n",
              "      <td>0</td>\n",
              "    </tr>\n",
              "    <tr>\n",
              "      <th>3</th>\n",
              "      <td>1000.png</td>\n",
              "      <td>0</td>\n",
              "    </tr>\n",
              "    <tr>\n",
              "      <th>4</th>\n",
              "      <td>10000.png</td>\n",
              "      <td>0</td>\n",
              "    </tr>\n",
              "    <tr>\n",
              "      <th>...</th>\n",
              "      <td>...</td>\n",
              "      <td>...</td>\n",
              "    </tr>\n",
              "    <tr>\n",
              "      <th>23748</th>\n",
              "      <td>chauvin5-1.png</td>\n",
              "      <td>1</td>\n",
              "    </tr>\n",
              "    <tr>\n",
              "      <th>23749</th>\n",
              "      <td>chauvin6-1.png</td>\n",
              "      <td>1</td>\n",
              "    </tr>\n",
              "    <tr>\n",
              "      <th>23750</th>\n",
              "      <td>chauvin7-1.png</td>\n",
              "      <td>1</td>\n",
              "    </tr>\n",
              "    <tr>\n",
              "      <th>23751</th>\n",
              "      <td>chauvin8-1.png</td>\n",
              "      <td>1</td>\n",
              "    </tr>\n",
              "    <tr>\n",
              "      <th>23752</th>\n",
              "      <td>chauvin9-1.png</td>\n",
              "      <td>1</td>\n",
              "    </tr>\n",
              "  </tbody>\n",
              "</table>\n",
              "<p>23753 rows × 2 columns</p>\n",
              "</div>"
            ],
            "text/plain": [
              "             filename  ischauv\n",
              "0               1.png        0\n",
              "1              10.png        0\n",
              "2             100.png        0\n",
              "3            1000.png        0\n",
              "4           10000.png        0\n",
              "...               ...      ...\n",
              "23748  chauvin5-1.png        1\n",
              "23749  chauvin6-1.png        1\n",
              "23750  chauvin7-1.png        1\n",
              "23751  chauvin8-1.png        1\n",
              "23752  chauvin9-1.png        1\n",
              "\n",
              "[23753 rows x 2 columns]"
            ]
          },
          "metadata": {
            "tags": []
          },
          "execution_count": 40
        }
      ]
    },
    {
      "cell_type": "code",
      "metadata": {
        "id": "izTaU9DuDc0z",
        "colab_type": "code",
        "colab": {
          "base_uri": "https://localhost:8080/",
          "height": 391
        },
        "outputId": "f1c832b5-334e-4bd9-ff07-59773c8ac473"
      },
      "source": [
        "#checking X/y variables\n",
        "data.iloc[:, 1:-1]\n",
        "data.iloc[:,1:7]\n",
        "#data.iloc[:, 1:27]\n"
      ],
      "execution_count": null,
      "outputs": [
        {
          "output_type": "execute_result",
          "data": {
            "text/html": [
              "<div>\n",
              "<style scoped>\n",
              "    .dataframe tbody tr th:only-of-type {\n",
              "        vertical-align: middle;\n",
              "    }\n",
              "\n",
              "    .dataframe tbody tr th {\n",
              "        vertical-align: top;\n",
              "    }\n",
              "\n",
              "    .dataframe thead th {\n",
              "        text-align: right;\n",
              "    }\n",
              "</style>\n",
              "<table border=\"1\" class=\"dataframe\">\n",
              "  <thead>\n",
              "    <tr style=\"text-align: right;\">\n",
              "      <th></th>\n",
              "      <th>chroma_stft</th>\n",
              "      <th>rmse</th>\n",
              "      <th>spectral_centroid</th>\n",
              "      <th>spectral_bandwidth</th>\n",
              "      <th>rolloff</th>\n",
              "      <th>zero_crossing_rate</th>\n",
              "    </tr>\n",
              "  </thead>\n",
              "  <tbody>\n",
              "    <tr>\n",
              "      <th>0</th>\n",
              "      <td>0.494609</td>\n",
              "      <td>0.057445</td>\n",
              "      <td>897.512208</td>\n",
              "      <td>1524.761786</td>\n",
              "      <td>2216.677622</td>\n",
              "      <td>0.020292</td>\n",
              "    </tr>\n",
              "    <tr>\n",
              "      <th>1</th>\n",
              "      <td>0.452797</td>\n",
              "      <td>0.048388</td>\n",
              "      <td>810.964910</td>\n",
              "      <td>1494.187537</td>\n",
              "      <td>1829.944490</td>\n",
              "      <td>0.019865</td>\n",
              "    </tr>\n",
              "    <tr>\n",
              "      <th>2</th>\n",
              "      <td>0.469317</td>\n",
              "      <td>0.051306</td>\n",
              "      <td>811.581144</td>\n",
              "      <td>1389.106443</td>\n",
              "      <td>1917.697378</td>\n",
              "      <td>0.022433</td>\n",
              "    </tr>\n",
              "    <tr>\n",
              "      <th>3</th>\n",
              "      <td>0.286503</td>\n",
              "      <td>0.038913</td>\n",
              "      <td>440.878182</td>\n",
              "      <td>832.211975</td>\n",
              "      <td>540.637207</td>\n",
              "      <td>0.024449</td>\n",
              "    </tr>\n",
              "    <tr>\n",
              "      <th>4</th>\n",
              "      <td>0.347150</td>\n",
              "      <td>0.064649</td>\n",
              "      <td>525.212424</td>\n",
              "      <td>921.489409</td>\n",
              "      <td>895.905480</td>\n",
              "      <td>0.021156</td>\n",
              "    </tr>\n",
              "    <tr>\n",
              "      <th>...</th>\n",
              "      <td>...</td>\n",
              "      <td>...</td>\n",
              "      <td>...</td>\n",
              "      <td>...</td>\n",
              "      <td>...</td>\n",
              "      <td>...</td>\n",
              "    </tr>\n",
              "    <tr>\n",
              "      <th>365</th>\n",
              "      <td>0.330313</td>\n",
              "      <td>0.024994</td>\n",
              "      <td>1172.855050</td>\n",
              "      <td>1807.679152</td>\n",
              "      <td>2653.139085</td>\n",
              "      <td>0.036245</td>\n",
              "    </tr>\n",
              "    <tr>\n",
              "      <th>366</th>\n",
              "      <td>0.295049</td>\n",
              "      <td>0.016675</td>\n",
              "      <td>1180.758022</td>\n",
              "      <td>1595.135496</td>\n",
              "      <td>2640.509033</td>\n",
              "      <td>0.043185</td>\n",
              "    </tr>\n",
              "    <tr>\n",
              "      <th>367</th>\n",
              "      <td>0.390352</td>\n",
              "      <td>0.047020</td>\n",
              "      <td>1209.279254</td>\n",
              "      <td>1668.237555</td>\n",
              "      <td>2789.466111</td>\n",
              "      <td>0.046917</td>\n",
              "    </tr>\n",
              "    <tr>\n",
              "      <th>368</th>\n",
              "      <td>0.423649</td>\n",
              "      <td>0.037460</td>\n",
              "      <td>1183.042848</td>\n",
              "      <td>1740.126304</td>\n",
              "      <td>2767.016602</td>\n",
              "      <td>0.035269</td>\n",
              "    </tr>\n",
              "    <tr>\n",
              "      <th>369</th>\n",
              "      <td>0.304418</td>\n",
              "      <td>0.045572</td>\n",
              "      <td>1100.486723</td>\n",
              "      <td>1571.189868</td>\n",
              "      <td>2382.938796</td>\n",
              "      <td>0.048546</td>\n",
              "    </tr>\n",
              "  </tbody>\n",
              "</table>\n",
              "<p>370 rows × 6 columns</p>\n",
              "</div>"
            ],
            "text/plain": [
              "     chroma_stft      rmse  ...      rolloff  zero_crossing_rate\n",
              "0       0.494609  0.057445  ...  2216.677622            0.020292\n",
              "1       0.452797  0.048388  ...  1829.944490            0.019865\n",
              "2       0.469317  0.051306  ...  1917.697378            0.022433\n",
              "3       0.286503  0.038913  ...   540.637207            0.024449\n",
              "4       0.347150  0.064649  ...   895.905480            0.021156\n",
              "..           ...       ...  ...          ...                 ...\n",
              "365     0.330313  0.024994  ...  2653.139085            0.036245\n",
              "366     0.295049  0.016675  ...  2640.509033            0.043185\n",
              "367     0.390352  0.047020  ...  2789.466111            0.046917\n",
              "368     0.423649  0.037460  ...  2767.016602            0.035269\n",
              "369     0.304418  0.045572  ...  2382.938796            0.048546\n",
              "\n",
              "[370 rows x 6 columns]"
            ]
          },
          "metadata": {
            "tags": []
          },
          "execution_count": 44
        }
      ]
    },
    {
      "cell_type": "markdown",
      "metadata": {
        "id": "AmnmSsHmNksR",
        "colab_type": "text"
      },
      "source": [
        "Preparing Visualizations to understand the sound features extracted"
      ]
    },
    {
      "cell_type": "code",
      "metadata": {
        "id": "CiZ0C5MUmXQg",
        "colab_type": "code",
        "colab": {
          "base_uri": "https://localhost:8080/",
          "height": 325
        },
        "outputId": "92b221c4-397f-4d00-b19a-6167dd87d972"
      },
      "source": [
        "Plotdata = pd.read_csv('/content/drive/My Drive/Colab Notebooks/project/dataset.csv')\n",
        "Plotdata.head()"
      ],
      "execution_count": null,
      "outputs": [
        {
          "output_type": "execute_result",
          "data": {
            "text/html": [
              "<div>\n",
              "<style scoped>\n",
              "    .dataframe tbody tr th:only-of-type {\n",
              "        vertical-align: middle;\n",
              "    }\n",
              "\n",
              "    .dataframe tbody tr th {\n",
              "        vertical-align: top;\n",
              "    }\n",
              "\n",
              "    .dataframe thead th {\n",
              "        text-align: right;\n",
              "    }\n",
              "</style>\n",
              "<table border=\"1\" class=\"dataframe\">\n",
              "  <thead>\n",
              "    <tr style=\"text-align: right;\">\n",
              "      <th></th>\n",
              "      <th>filename</th>\n",
              "      <th>chroma_stft</th>\n",
              "      <th>rmse</th>\n",
              "      <th>spectral_centroid</th>\n",
              "      <th>spectral_bandwidth</th>\n",
              "      <th>rolloff</th>\n",
              "      <th>zero_crossing_rate</th>\n",
              "      <th>mfcc1</th>\n",
              "      <th>mfcc2</th>\n",
              "      <th>mfcc3</th>\n",
              "      <th>mfcc4</th>\n",
              "      <th>mfcc5</th>\n",
              "      <th>mfcc6</th>\n",
              "      <th>mfcc7</th>\n",
              "      <th>mfcc8</th>\n",
              "      <th>mfcc9</th>\n",
              "      <th>mfcc10</th>\n",
              "      <th>mfcc11</th>\n",
              "      <th>mfcc12</th>\n",
              "      <th>mfcc13</th>\n",
              "      <th>mfcc14</th>\n",
              "      <th>mfcc15</th>\n",
              "      <th>mfcc16</th>\n",
              "      <th>mfcc17</th>\n",
              "      <th>mfcc18</th>\n",
              "      <th>mfcc19</th>\n",
              "      <th>mfcc20</th>\n",
              "      <th>Note-Oct</th>\n",
              "      <th>Note</th>\n",
              "      <th>Code-Note-Oct</th>\n",
              "      <th>Octave</th>\n",
              "      <th>Code-Note</th>\n",
              "    </tr>\n",
              "  </thead>\n",
              "  <tbody>\n",
              "    <tr>\n",
              "      <th>0</th>\n",
              "      <td>A#2-0.wav</td>\n",
              "      <td>0.494609</td>\n",
              "      <td>0.057445</td>\n",
              "      <td>897.512208</td>\n",
              "      <td>1524.761786</td>\n",
              "      <td>2216.677622</td>\n",
              "      <td>0.020292</td>\n",
              "      <td>-410.222854</td>\n",
              "      <td>79.036647</td>\n",
              "      <td>41.540051</td>\n",
              "      <td>17.542005</td>\n",
              "      <td>7.451231</td>\n",
              "      <td>6.032380</td>\n",
              "      <td>7.914863</td>\n",
              "      <td>7.661701</td>\n",
              "      <td>3.761475</td>\n",
              "      <td>-1.050975</td>\n",
              "      <td>-2.987164</td>\n",
              "      <td>-3.119429</td>\n",
              "      <td>-4.486166</td>\n",
              "      <td>-6.434580</td>\n",
              "      <td>-5.828149</td>\n",
              "      <td>-0.627451</td>\n",
              "      <td>6.567497</td>\n",
              "      <td>9.540198</td>\n",
              "      <td>5.932224</td>\n",
              "      <td>0.883696</td>\n",
              "      <td>A#2</td>\n",
              "      <td>A#</td>\n",
              "      <td>1</td>\n",
              "      <td>2</td>\n",
              "      <td>1</td>\n",
              "    </tr>\n",
              "    <tr>\n",
              "      <th>1</th>\n",
              "      <td>A#2-1.wav</td>\n",
              "      <td>0.452797</td>\n",
              "      <td>0.048388</td>\n",
              "      <td>810.964910</td>\n",
              "      <td>1494.187537</td>\n",
              "      <td>1829.944490</td>\n",
              "      <td>0.019865</td>\n",
              "      <td>-421.044491</td>\n",
              "      <td>85.120745</td>\n",
              "      <td>41.692309</td>\n",
              "      <td>16.478092</td>\n",
              "      <td>8.438673</td>\n",
              "      <td>6.774947</td>\n",
              "      <td>8.819674</td>\n",
              "      <td>9.465638</td>\n",
              "      <td>4.093943</td>\n",
              "      <td>-2.348557</td>\n",
              "      <td>-3.452015</td>\n",
              "      <td>-2.275677</td>\n",
              "      <td>-3.024034</td>\n",
              "      <td>-3.258835</td>\n",
              "      <td>-0.964259</td>\n",
              "      <td>2.904183</td>\n",
              "      <td>7.307453</td>\n",
              "      <td>8.684956</td>\n",
              "      <td>4.281436</td>\n",
              "      <td>-0.292092</td>\n",
              "      <td>A#2</td>\n",
              "      <td>A#</td>\n",
              "      <td>1</td>\n",
              "      <td>2</td>\n",
              "      <td>1</td>\n",
              "    </tr>\n",
              "    <tr>\n",
              "      <th>2</th>\n",
              "      <td>A#2-2.wav</td>\n",
              "      <td>0.469317</td>\n",
              "      <td>0.051306</td>\n",
              "      <td>811.581144</td>\n",
              "      <td>1389.106443</td>\n",
              "      <td>1917.697378</td>\n",
              "      <td>0.022433</td>\n",
              "      <td>-421.083599</td>\n",
              "      <td>93.405912</td>\n",
              "      <td>41.652223</td>\n",
              "      <td>16.070994</td>\n",
              "      <td>9.917962</td>\n",
              "      <td>6.636696</td>\n",
              "      <td>7.946362</td>\n",
              "      <td>10.088446</td>\n",
              "      <td>4.476042</td>\n",
              "      <td>-3.627984</td>\n",
              "      <td>-4.983836</td>\n",
              "      <td>-3.329482</td>\n",
              "      <td>-5.465973</td>\n",
              "      <td>-8.848409</td>\n",
              "      <td>-7.757842</td>\n",
              "      <td>-0.289353</td>\n",
              "      <td>8.496214</td>\n",
              "      <td>9.532154</td>\n",
              "      <td>2.632341</td>\n",
              "      <td>-2.010336</td>\n",
              "      <td>A#2</td>\n",
              "      <td>A#</td>\n",
              "      <td>1</td>\n",
              "      <td>2</td>\n",
              "      <td>1</td>\n",
              "    </tr>\n",
              "    <tr>\n",
              "      <th>3</th>\n",
              "      <td>A#2-3.wav</td>\n",
              "      <td>0.286503</td>\n",
              "      <td>0.038913</td>\n",
              "      <td>440.878182</td>\n",
              "      <td>832.211975</td>\n",
              "      <td>540.637207</td>\n",
              "      <td>0.024449</td>\n",
              "      <td>-454.850620</td>\n",
              "      <td>136.941887</td>\n",
              "      <td>65.018824</td>\n",
              "      <td>17.163679</td>\n",
              "      <td>6.611031</td>\n",
              "      <td>10.591685</td>\n",
              "      <td>11.818851</td>\n",
              "      <td>5.772098</td>\n",
              "      <td>-4.312867</td>\n",
              "      <td>-9.861685</td>\n",
              "      <td>-7.793310</td>\n",
              "      <td>-7.272041</td>\n",
              "      <td>-13.516201</td>\n",
              "      <td>-17.467404</td>\n",
              "      <td>-10.949569</td>\n",
              "      <td>0.231671</td>\n",
              "      <td>7.007317</td>\n",
              "      <td>7.050083</td>\n",
              "      <td>2.631895</td>\n",
              "      <td>-1.634866</td>\n",
              "      <td>A#2</td>\n",
              "      <td>A#</td>\n",
              "      <td>1</td>\n",
              "      <td>2</td>\n",
              "      <td>1</td>\n",
              "    </tr>\n",
              "    <tr>\n",
              "      <th>4</th>\n",
              "      <td>A#2-4.wav</td>\n",
              "      <td>0.347150</td>\n",
              "      <td>0.064649</td>\n",
              "      <td>525.212424</td>\n",
              "      <td>921.489409</td>\n",
              "      <td>895.905480</td>\n",
              "      <td>0.021156</td>\n",
              "      <td>-395.175867</td>\n",
              "      <td>114.397467</td>\n",
              "      <td>51.495705</td>\n",
              "      <td>19.394867</td>\n",
              "      <td>10.429204</td>\n",
              "      <td>5.127996</td>\n",
              "      <td>6.228827</td>\n",
              "      <td>8.384177</td>\n",
              "      <td>0.355300</td>\n",
              "      <td>-9.280187</td>\n",
              "      <td>-9.595780</td>\n",
              "      <td>-8.681513</td>\n",
              "      <td>-12.309214</td>\n",
              "      <td>-12.468973</td>\n",
              "      <td>-6.736981</td>\n",
              "      <td>-0.631987</td>\n",
              "      <td>4.699796</td>\n",
              "      <td>7.866968</td>\n",
              "      <td>3.838192</td>\n",
              "      <td>-4.077579</td>\n",
              "      <td>A#2</td>\n",
              "      <td>A#</td>\n",
              "      <td>1</td>\n",
              "      <td>2</td>\n",
              "      <td>1</td>\n",
              "    </tr>\n",
              "  </tbody>\n",
              "</table>\n",
              "</div>"
            ],
            "text/plain": [
              "    filename  chroma_stft      rmse  ...  Code-Note-Oct  Octave  Code-Note\n",
              "0  A#2-0.wav     0.494609  0.057445  ...              1       2          1\n",
              "1  A#2-1.wav     0.452797  0.048388  ...              1       2          1\n",
              "2  A#2-2.wav     0.469317  0.051306  ...              1       2          1\n",
              "3  A#2-3.wav     0.286503  0.038913  ...              1       2          1\n",
              "4  A#2-4.wav     0.347150  0.064649  ...              1       2          1\n",
              "\n",
              "[5 rows x 32 columns]"
            ]
          },
          "metadata": {
            "tags": []
          },
          "execution_count": 45
        }
      ]
    },
    {
      "cell_type": "markdown",
      "metadata": {
        "id": "LKppJ1Abmh11",
        "colab_type": "text"
      },
      "source": [
        "# Visualization"
      ]
    },
    {
      "cell_type": "code",
      "metadata": {
        "id": "tHaui9d1mfTA",
        "colab_type": "code",
        "colab": {
          "base_uri": "https://localhost:8080/",
          "height": 473
        },
        "outputId": "b02c540c-d591-4296-8bb3-a8dc1f5123a8"
      },
      "source": [
        "\n",
        "vis1 = sns.lmplot(data=Plotdata,x='rmse',y='chroma_stft',\\\n",
        "                 fit_reg= False, hue='Note',\\\n",
        "                 size=6,aspect=1)"
      ],
      "execution_count": null,
      "outputs": [
        {
          "output_type": "stream",
          "text": [
            "/usr/local/lib/python3.6/dist-packages/seaborn/regression.py:574: UserWarning: The `size` parameter has been renamed to `height`; please update your code.\n",
            "  warnings.warn(msg, UserWarning)\n"
          ],
          "name": "stderr"
        },
        {
          "output_type": "display_data",
          "data": {
            "image/png": "[encoded data removed]",
            "text/plain": [
              "<Figure size 484.125x432 with 1 Axes>"
            ]
          },
          "metadata": {
            "tags": [],
            "needs_background": "light"
          }
        }
      ]
    },
    {
      "cell_type": "code",
      "metadata": {
        "id": "ZVTqebvImoO5",
        "colab_type": "code",
        "colab": {
          "base_uri": "https://localhost:8080/",
          "height": 473
        },
        "outputId": "7f630c6c-9c02-4653-a1cc-64431423fe1f"
      },
      "source": [
        "vis1 = sns.lmplot(data=Plotdata,x='rolloff',y='rmse',\\\n",
        "                 fit_reg= False, hue='Note',\\\n",
        "                 size=6,aspect=1)"
      ],
      "execution_count": null,
      "outputs": [
        {
          "output_type": "stream",
          "text": [
            "/usr/local/lib/python3.6/dist-packages/seaborn/regression.py:574: UserWarning: The `size` parameter has been renamed to `height`; please update your code.\n",
            "  warnings.warn(msg, UserWarning)\n"
          ],
          "name": "stderr"
        },
        {
          "output_type": "display_data",
          "data": {
            "image/png": "[encoded data removed]",
            "text/plain": [
              "<Figure size 484.125x432 with 1 Axes>"
            ]
          },
          "metadata": {
            "tags": [],
            "needs_background": "light"
          }
        }
      ]
    },
    {
      "cell_type": "code",
      "metadata": {
        "id": "tOUbPBwVmqdm",
        "colab_type": "code",
        "colab": {
          "base_uri": "https://localhost:8080/",
          "height": 278
        },
        "outputId": "5b6a3c8d-d985-48f4-b595-dc8b37291899"
      },
      "source": [
        "w = sns.boxplot(data=Plotdata,x='Note',y='chroma_stft')"
      ],
      "execution_count": null,
      "outputs": [
        {
          "output_type": "display_data",
          "data": {
            "image/png": "[encoded data removed]",
            "text/plain": [
              "<Figure size 432x288 with 1 Axes>"
            ]
          },
          "metadata": {
            "tags": [],
            "needs_background": "light"
          }
        }
      ]
    },
    {
      "cell_type": "code",
      "metadata": {
        "id": "Msg7DCjLms6J",
        "colab_type": "code",
        "colab": {
          "base_uri": "https://localhost:8080/",
          "height": 281
        },
        "outputId": "ee4f9f55-ee5b-4741-d27e-88969df6a321"
      },
      "source": [
        "w = sns.boxplot(data=Plotdata,x='Note',y='spectral_centroid')"
      ],
      "execution_count": null,
      "outputs": [
        {
          "output_type": "display_data",
          "data": {
            "image/png": "[encoded data removed]",
            "text/plain": [
              "<Figure size 432x288 with 1 Axes>"
            ]
          },
          "metadata": {
            "tags": [],
            "needs_background": "light"
          }
        }
      ]
    },
    {
      "cell_type": "code",
      "metadata": {
        "id": "AIU2Nv_AmzHe",
        "colab_type": "code",
        "colab": {
          "base_uri": "https://localhost:8080/",
          "height": 278
        },
        "outputId": "a04e65a9-375c-47a2-eca3-bb18cf9a4e5b"
      },
      "source": [
        "w = sns.boxplot(data=Plotdata,x='Note',y='rolloff')"
      ],
      "execution_count": null,
      "outputs": [
        {
          "output_type": "display_data",
          "data": {
            "image/png": "[encoded data removed]",
            "text/plain": [
              "<Figure size 432x288 with 1 Axes>"
            ]
          },
          "metadata": {
            "tags": [],
            "needs_background": "light"
          }
        }
      ]
    },
    {
      "cell_type": "code",
      "metadata": {
        "id": "x2OQ4JI4mz9g",
        "colab_type": "code",
        "colab": {
          "base_uri": "https://localhost:8080/",
          "height": 278
        },
        "outputId": "b63a19b7-2ca0-4ab6-e561-08ce09cc6596"
      },
      "source": [
        "w = sns.boxplot(data=Plotdata,x='Note',y='zero_crossing_rate')"
      ],
      "execution_count": null,
      "outputs": [
        {
          "output_type": "display_data",
          "data": {
            "image/png": "[encoded data removed]",
            "text/plain": [
              "<Figure size 432x288 with 1 Axes>"
            ]
          },
          "metadata": {
            "tags": [],
            "needs_background": "light"
          }
        }
      ]
    },
    {
      "cell_type": "code",
      "metadata": {
        "id": "RKFUZUO7m2FC",
        "colab_type": "code",
        "colab": {
          "base_uri": "https://localhost:8080/",
          "height": 1000
        },
        "outputId": "a4b47c55-ad0f-47c2-91bf-6a8a10808794"
      },
      "source": [
        "g = sns.FacetGrid(Plotdata,row='Note',col='Octave',hue='Note')\n",
        "g = g.map(plt.hist,'spectral_bandwidth')"
      ],
      "execution_count": null,
      "outputs": [
        {
          "output_type": "display_data",
          "data": {
            "image/png": "[encoded data removed]",
            "text/plain": [
              "<Figure size 864x2592 with 48 Axes>"
            ]
          },
          "metadata": {
            "tags": [],
            "needs_background": "light"
          }
        }
      ]
    },
    {
      "cell_type": "code",
      "metadata": {
        "id": "izd8wWRxm_JL",
        "colab_type": "code",
        "colab": {
          "base_uri": "https://localhost:8080/",
          "height": 1000
        },
        "outputId": "e59bf83c-1176-4696-fd4f-7f33b5174237"
      },
      "source": [
        "g = sns.FacetGrid(Plotdata,row='Note',col='Octave',hue='Note')\n",
        "g = g.map(plt.hist,'spectral_centroid')"
      ],
      "execution_count": null,
      "outputs": [
        {
          "output_type": "display_data",
          "data": {
            "image/png": "[encoded data removed]",
            "text/plain": [
              "<Figure size 864x2592 with 48 Axes>"
            ]
          },
          "metadata": {
            "tags": [],
            "needs_background": "light"
          }
        }
      ]
    },
    {
      "cell_type": "markdown",
      "metadata": {
        "id": "gPdAdEhf-bpQ",
        "colab_type": "text"
      },
      "source": [
        "It is evident based on initial visualizations of the sound features that there are many deep, non linear relationships connecting to how these are translated into the notes we want to predict.  It's not simple to try and eliminate some of these, regardless of correlation/redundancy.  Musical notes are exceptional in that even at high/low frequencies in different octaves, a note still retains it's class as the same note (E5 note and E2 notes are still E notes)"
      ]
    },
    {
      "cell_type": "markdown",
      "metadata": {
        "id": "trBV2qbpNGa5",
        "colab_type": "text"
      },
      "source": [
        "Split data into test/training, stratified over classes (the notes), scaling the data, and encoding the notes into integer classes"
      ]
    },
    {
      "cell_type": "code",
      "metadata": {
        "id": "2ldvZFfTAtpQ",
        "colab_type": "code",
        "colab": {
          "base_uri": "https://localhost:8080/",
          "height": 245
        },
        "outputId": "9f2388f8-0bf5-48f9-ce18-4b600c3192b9"
      },
      "source": [
        "print(data.head)\n",
        "\n",
        "#Encoding the Labels,  Notes are assigned integer labels 1-12, but are encoded from 0-11 in this step\n",
        "Labels = data.iloc[:, -1]\n",
        "encoder = LabelEncoder()\n",
        "y = encoder.fit_transform(Labels)\n",
        "#Scaling the Feature columns\n",
        "#All features\n",
        "X = data.iloc[:, 1:27]\n",
        "#all but MFCC\n",
        "#X = data.iloc[:, 1:7]\n",
        "scaler = StandardScaler()\n",
        "X = scaler.fit_transform(np.array(X, dtype = float))\n",
        "#Dividing data into training and Testing set\n",
        "X_train, X_test, y_train, y_test = train_test_split(X, y, test_size=0.4,stratify=y)"
      ],
      "execution_count": null,
      "outputs": [
        {
          "output_type": "stream",
          "text": [
            "<bound method NDFrame.head of          filename  chroma_stft      rmse  ...  Code-Note-Oct  Octave  Code-Note\n",
            "0       A#2-0.wav     0.494609  0.057445  ...              1       2          1\n",
            "1       A#2-1.wav     0.452797  0.048388  ...              1       2          1\n",
            "2       A#2-2.wav     0.469317  0.051306  ...              1       2          1\n",
            "3       A#2-3.wav     0.286503  0.038913  ...              1       2          1\n",
            "4       A#2-4.wav     0.347150  0.064649  ...              1       2          1\n",
            "..            ...          ...       ...  ...            ...     ...        ...\n",
            "365  copyG4-0.wav     0.330313  0.024994  ...             36       4         12\n",
            "366  copyG4-1.wav     0.295049  0.016675  ...             36       4         12\n",
            "367  copyG4-2.wav     0.390352  0.047020  ...             36       4         12\n",
            "368  copyG4-3.wav     0.423649  0.037460  ...             36       4         12\n",
            "369  copyG4-4.wav     0.304418  0.045572  ...             36       4         12\n",
            "\n",
            "[370 rows x 32 columns]>\n"
          ],
          "name": "stdout"
        }
      ]
    },
    {
      "cell_type": "markdown",
      "metadata": {
        "id": "9l_hFwxbp90w",
        "colab_type": "text"
      },
      "source": [
        "Model 1, basic DNN with sound features from librosa as input"
      ]
    },
    {
      "cell_type": "code",
      "metadata": {
        "id": "JtHPEu6dBdzN",
        "colab_type": "code",
        "colab": {
          "base_uri": "https://localhost:8080/",
          "height": 505
        },
        "outputId": "72ea3e25-6fcc-4bfa-bf2e-5ca6f905bc84"
      },
      "source": [
        "#many nodes/layers, with dropout to prevent overfitting, with sparse categorical crossentropy as loss/softmax activation to predict multiclasses without multi hot coding many columns\n",
        "model = Sequential()\n",
        "model.add(tf.keras.layers.Dense(512, activation='relu', input_shape=(X_train.shape[1],)))\n",
        "model.add(tf.keras.layers.Dropout(0.5))\n",
        "model.add(tf.keras.layers.Dense(256, activation='relu'))\n",
        "model.add(tf.keras.layers.Dropout(0.3))\n",
        "model.add(tf.keras.layers.Dense(128, activation='relu'))\n",
        "model.add(tf.keras.layers.Dropout(0.6))\n",
        "model.add(tf.keras.layers.Dense(64, activation='relu'))\n",
        "model.add(tf.keras.layers.Dropout(0.4))\n",
        "model.add(tf.keras.layers.Dense(32, activation='relu'))\n",
        "model.add(tf.keras.layers.Dropout(0.5))\n",
        "model.add(tf.keras.layers.Dense(12, activation='softmax'))\n",
        "tf.keras.optimizers.Adam(lr=0.001, beta_1=0.9, beta_2=0.999, amsgrad=False)\n",
        "model.compile(optimizer='adam',loss='sparse_categorical_crossentropy',metrics=['sparse_categorical_accuracy'])\n",
        "model.summary()"
      ],
      "execution_count": null,
      "outputs": [
        {
          "output_type": "stream",
          "text": [
            "Model: \"sequential_3\"\n",
            "_________________________________________________________________\n",
            "Layer (type)                 Output Shape              Param #   \n",
            "=================================================================\n",
            "dense_3 (Dense)              (None, 512)               13824     \n",
            "_________________________________________________________________\n",
            "dropout (Dropout)            (None, 512)               0         \n",
            "_________________________________________________________________\n",
            "dense_4 (Dense)              (None, 256)               131328    \n",
            "_________________________________________________________________\n",
            "dropout_1 (Dropout)          (None, 256)               0         \n",
            "_________________________________________________________________\n",
            "dense_5 (Dense)              (None, 128)               32896     \n",
            "_________________________________________________________________\n",
            "dropout_2 (Dropout)          (None, 128)               0         \n",
            "_________________________________________________________________\n",
            "dense_6 (Dense)              (None, 64)                8256      \n",
            "_________________________________________________________________\n",
            "dropout_3 (Dropout)          (None, 64)                0         \n",
            "_________________________________________________________________\n",
            "dense_7 (Dense)              (None, 32)                2080      \n",
            "_________________________________________________________________\n",
            "dropout_4 (Dropout)          (None, 32)                0         \n",
            "_________________________________________________________________\n",
            "dense_8 (Dense)              (None, 12)                396       \n",
            "=================================================================\n",
            "Total params: 188,780\n",
            "Trainable params: 188,780\n",
            "Non-trainable params: 0\n",
            "_________________________________________________________________\n"
          ],
          "name": "stdout"
        }
      ]
    },
    {
      "cell_type": "code",
      "metadata": {
        "id": "QOTtvJPdCXYM",
        "colab_type": "code",
        "colab": {}
      },
      "source": [
        "es = EarlyStopping(monitor='val_sparse_categorical_accuracy', mode='max', \n",
        "                   patience=40, \n",
        "                   verbose=1)"
      ],
      "execution_count": null,
      "outputs": []
    },
    {
      "cell_type": "code",
      "metadata": {
        "id": "xD0zjAlBB7UU",
        "colab_type": "code",
        "colab": {
          "base_uri": "https://localhost:8080/",
          "height": 1000
        },
        "outputId": "91870a3e-1fa7-4215-f5a7-584651c13d30"
      },
      "source": [
        "classifier = model.fit(X_train,\n",
        "                    y_train, validation_data=(X_test, y_test),\n",
        "                    epochs=250, verbose=1,\n",
        "                    batch_size=2,callbacks=[es])"
      ],
      "execution_count": null,
      "outputs": [
        {
          "output_type": "stream",
          "text": [
            "Epoch 1/250\n",
            "111/111 [==============================] - 0s 4ms/step - loss: 2.6023 - sparse_categorical_accuracy: 0.1081 - val_loss: 2.4617 - val_sparse_categorical_accuracy: 0.1149\n",
            "Epoch 2/250\n",
            "111/111 [==============================] - 0s 3ms/step - loss: 2.5455 - sparse_categorical_accuracy: 0.0676 - val_loss: 2.4394 - val_sparse_categorical_accuracy: 0.1284\n",
            "Epoch 3/250\n",
            "111/111 [==============================] - 0s 3ms/step - loss: 2.5023 - sparse_categorical_accuracy: 0.1126 - val_loss: 2.4332 - val_sparse_categorical_accuracy: 0.0946\n",
            "Epoch 4/250\n",
            "111/111 [==============================] - 0s 3ms/step - loss: 2.4879 - sparse_categorical_accuracy: 0.1036 - val_loss: 2.4101 - val_sparse_categorical_accuracy: 0.1554\n",
            "Epoch 5/250\n",
            "111/111 [==============================] - 0s 3ms/step - loss: 2.4717 - sparse_categorical_accuracy: 0.1351 - val_loss: 2.3140 - val_sparse_categorical_accuracy: 0.2500\n",
            "Epoch 6/250\n",
            "111/111 [==============================] - 0s 3ms/step - loss: 2.4755 - sparse_categorical_accuracy: 0.1036 - val_loss: 2.3307 - val_sparse_categorical_accuracy: 0.2568\n",
            "Epoch 7/250\n",
            "111/111 [==============================] - 0s 3ms/step - loss: 2.3833 - sparse_categorical_accuracy: 0.1486 - val_loss: 2.2307 - val_sparse_categorical_accuracy: 0.2230\n",
            "Epoch 8/250\n",
            "111/111 [==============================] - 0s 3ms/step - loss: 2.4305 - sparse_categorical_accuracy: 0.0991 - val_loss: 2.2987 - val_sparse_categorical_accuracy: 0.2568\n",
            "Epoch 9/250\n",
            "111/111 [==============================] - 0s 3ms/step - loss: 2.2989 - sparse_categorical_accuracy: 0.1757 - val_loss: 2.2122 - val_sparse_categorical_accuracy: 0.2838\n",
            "Epoch 10/250\n",
            "111/111 [==============================] - 0s 3ms/step - loss: 2.2413 - sparse_categorical_accuracy: 0.2027 - val_loss: 2.0783 - val_sparse_categorical_accuracy: 0.3243\n",
            "Epoch 11/250\n",
            "111/111 [==============================] - 0s 3ms/step - loss: 2.3321 - sparse_categorical_accuracy: 0.1261 - val_loss: 2.0783 - val_sparse_categorical_accuracy: 0.2905\n",
            "Epoch 12/250\n",
            "111/111 [==============================] - 0s 3ms/step - loss: 2.2295 - sparse_categorical_accuracy: 0.1486 - val_loss: 2.0513 - val_sparse_categorical_accuracy: 0.3851\n",
            "Epoch 13/250\n",
            "111/111 [==============================] - 0s 3ms/step - loss: 2.2387 - sparse_categorical_accuracy: 0.1982 - val_loss: 2.0031 - val_sparse_categorical_accuracy: 0.3446\n",
            "Epoch 14/250\n",
            "111/111 [==============================] - 0s 3ms/step - loss: 2.0991 - sparse_categorical_accuracy: 0.2477 - val_loss: 1.9061 - val_sparse_categorical_accuracy: 0.3176\n",
            "Epoch 15/250\n",
            "111/111 [==============================] - 0s 3ms/step - loss: 2.0626 - sparse_categorical_accuracy: 0.2387 - val_loss: 1.8761 - val_sparse_categorical_accuracy: 0.3446\n",
            "Epoch 16/250\n",
            "111/111 [==============================] - 0s 3ms/step - loss: 2.0982 - sparse_categorical_accuracy: 0.2703 - val_loss: 1.8378 - val_sparse_categorical_accuracy: 0.3581\n",
            "Epoch 17/250\n",
            "111/111 [==============================] - 0s 3ms/step - loss: 2.0362 - sparse_categorical_accuracy: 0.2928 - val_loss: 1.8391 - val_sparse_categorical_accuracy: 0.3581\n",
            "Epoch 18/250\n",
            "111/111 [==============================] - 0s 3ms/step - loss: 1.9560 - sparse_categorical_accuracy: 0.2748 - val_loss: 1.7365 - val_sparse_categorical_accuracy: 0.3108\n",
            "Epoch 19/250\n",
            "111/111 [==============================] - 0s 3ms/step - loss: 1.9504 - sparse_categorical_accuracy: 0.3063 - val_loss: 1.6800 - val_sparse_categorical_accuracy: 0.3041\n",
            "Epoch 20/250\n",
            "111/111 [==============================] - 0s 3ms/step - loss: 1.9297 - sparse_categorical_accuracy: 0.2703 - val_loss: 1.7345 - val_sparse_categorical_accuracy: 0.3851\n",
            "Epoch 21/250\n",
            "111/111 [==============================] - 0s 3ms/step - loss: 1.8847 - sparse_categorical_accuracy: 0.3333 - val_loss: 1.6404 - val_sparse_categorical_accuracy: 0.3716\n",
            "Epoch 22/250\n",
            "111/111 [==============================] - 0s 3ms/step - loss: 1.7914 - sparse_categorical_accuracy: 0.3288 - val_loss: 1.5495 - val_sparse_categorical_accuracy: 0.3919\n",
            "Epoch 23/250\n",
            "111/111 [==============================] - 0s 3ms/step - loss: 1.8958 - sparse_categorical_accuracy: 0.2387 - val_loss: 1.5497 - val_sparse_categorical_accuracy: 0.4662\n",
            "Epoch 24/250\n",
            "111/111 [==============================] - 0s 3ms/step - loss: 1.7326 - sparse_categorical_accuracy: 0.3694 - val_loss: 1.4834 - val_sparse_categorical_accuracy: 0.3919\n",
            "Epoch 25/250\n",
            "111/111 [==============================] - 0s 3ms/step - loss: 1.7463 - sparse_categorical_accuracy: 0.3063 - val_loss: 1.4171 - val_sparse_categorical_accuracy: 0.5068\n",
            "Epoch 26/250\n",
            "111/111 [==============================] - 0s 3ms/step - loss: 1.6732 - sparse_categorical_accuracy: 0.3739 - val_loss: 1.4060 - val_sparse_categorical_accuracy: 0.4257\n",
            "Epoch 27/250\n",
            "111/111 [==============================] - 0s 3ms/step - loss: 1.5921 - sparse_categorical_accuracy: 0.4009 - val_loss: 1.3624 - val_sparse_categorical_accuracy: 0.5068\n",
            "Epoch 28/250\n",
            "111/111 [==============================] - 0s 3ms/step - loss: 1.6758 - sparse_categorical_accuracy: 0.3288 - val_loss: 1.3676 - val_sparse_categorical_accuracy: 0.5203\n",
            "Epoch 29/250\n",
            "111/111 [==============================] - 0s 3ms/step - loss: 1.6075 - sparse_categorical_accuracy: 0.3694 - val_loss: 1.2545 - val_sparse_categorical_accuracy: 0.4932\n",
            "Epoch 30/250\n",
            "111/111 [==============================] - 0s 3ms/step - loss: 1.7156 - sparse_categorical_accuracy: 0.3919 - val_loss: 1.2600 - val_sparse_categorical_accuracy: 0.4662\n",
            "Epoch 31/250\n",
            "111/111 [==============================] - 0s 3ms/step - loss: 1.5713 - sparse_categorical_accuracy: 0.4099 - val_loss: 1.2340 - val_sparse_categorical_accuracy: 0.5338\n",
            "Epoch 32/250\n",
            "111/111 [==============================] - 0s 3ms/step - loss: 1.5405 - sparse_categorical_accuracy: 0.4144 - val_loss: 1.2480 - val_sparse_categorical_accuracy: 0.4527\n",
            "Epoch 33/250\n",
            "111/111 [==============================] - 0s 3ms/step - loss: 1.4174 - sparse_categorical_accuracy: 0.4550 - val_loss: 1.1849 - val_sparse_categorical_accuracy: 0.5000\n",
            "Epoch 34/250\n",
            "111/111 [==============================] - 0s 3ms/step - loss: 1.5416 - sparse_categorical_accuracy: 0.4054 - val_loss: 1.1520 - val_sparse_categorical_accuracy: 0.5135\n",
            "Epoch 35/250\n",
            "111/111 [==============================] - 0s 3ms/step - loss: 1.3896 - sparse_categorical_accuracy: 0.4820 - val_loss: 1.1471 - val_sparse_categorical_accuracy: 0.4865\n",
            "Epoch 36/250\n",
            "111/111 [==============================] - 0s 3ms/step - loss: 1.4565 - sparse_categorical_accuracy: 0.4730 - val_loss: 1.1030 - val_sparse_categorical_accuracy: 0.5946\n",
            "Epoch 37/250\n",
            "111/111 [==============================] - 0s 3ms/step - loss: 1.4956 - sparse_categorical_accuracy: 0.4640 - val_loss: 1.0845 - val_sparse_categorical_accuracy: 0.5743\n",
            "Epoch 38/250\n",
            "111/111 [==============================] - 0s 3ms/step - loss: 1.3784 - sparse_categorical_accuracy: 0.5045 - val_loss: 1.0123 - val_sparse_categorical_accuracy: 0.5946\n",
            "Epoch 39/250\n",
            "111/111 [==============================] - 0s 3ms/step - loss: 1.2816 - sparse_categorical_accuracy: 0.5045 - val_loss: 0.9994 - val_sparse_categorical_accuracy: 0.5338\n",
            "Epoch 40/250\n",
            "111/111 [==============================] - 0s 4ms/step - loss: 1.3589 - sparse_categorical_accuracy: 0.4865 - val_loss: 1.0174 - val_sparse_categorical_accuracy: 0.5608\n",
            "Epoch 41/250\n",
            "111/111 [==============================] - 0s 4ms/step - loss: 1.3588 - sparse_categorical_accuracy: 0.4910 - val_loss: 0.9780 - val_sparse_categorical_accuracy: 0.6486\n",
            "Epoch 42/250\n",
            "111/111 [==============================] - 0s 4ms/step - loss: 1.2936 - sparse_categorical_accuracy: 0.5315 - val_loss: 1.0984 - val_sparse_categorical_accuracy: 0.5135\n",
            "Epoch 43/250\n",
            "111/111 [==============================] - 0s 4ms/step - loss: 1.2225 - sparse_categorical_accuracy: 0.5180 - val_loss: 0.9750 - val_sparse_categorical_accuracy: 0.6419\n",
            "Epoch 44/250\n",
            "111/111 [==============================] - 0s 4ms/step - loss: 1.2625 - sparse_categorical_accuracy: 0.4910 - val_loss: 0.9957 - val_sparse_categorical_accuracy: 0.5541\n",
            "Epoch 45/250\n",
            "111/111 [==============================] - 0s 4ms/step - loss: 1.0785 - sparse_categorical_accuracy: 0.5360 - val_loss: 0.9279 - val_sparse_categorical_accuracy: 0.6622\n",
            "Epoch 46/250\n",
            "111/111 [==============================] - 0s 4ms/step - loss: 1.2514 - sparse_categorical_accuracy: 0.4685 - val_loss: 0.9421 - val_sparse_categorical_accuracy: 0.6216\n",
            "Epoch 47/250\n",
            "111/111 [==============================] - 0s 4ms/step - loss: 1.2616 - sparse_categorical_accuracy: 0.5045 - val_loss: 0.9367 - val_sparse_categorical_accuracy: 0.6486\n",
            "Epoch 48/250\n",
            "111/111 [==============================] - 0s 4ms/step - loss: 1.0006 - sparse_categorical_accuracy: 0.5991 - val_loss: 0.8545 - val_sparse_categorical_accuracy: 0.6486\n",
            "Epoch 49/250\n",
            "111/111 [==============================] - 0s 4ms/step - loss: 1.1513 - sparse_categorical_accuracy: 0.5811 - val_loss: 0.8599 - val_sparse_categorical_accuracy: 0.6014\n",
            "Epoch 50/250\n",
            "111/111 [==============================] - 0s 4ms/step - loss: 1.1981 - sparse_categorical_accuracy: 0.5541 - val_loss: 0.8716 - val_sparse_categorical_accuracy: 0.7635\n",
            "Epoch 51/250\n",
            "111/111 [==============================] - 0s 4ms/step - loss: 1.0659 - sparse_categorical_accuracy: 0.5270 - val_loss: 0.8161 - val_sparse_categorical_accuracy: 0.7027\n",
            "Epoch 52/250\n",
            "111/111 [==============================] - 0s 4ms/step - loss: 0.9930 - sparse_categorical_accuracy: 0.5856 - val_loss: 0.8010 - val_sparse_categorical_accuracy: 0.7162\n",
            "Epoch 53/250\n",
            "111/111 [==============================] - 0s 4ms/step - loss: 1.1226 - sparse_categorical_accuracy: 0.5541 - val_loss: 0.7858 - val_sparse_categorical_accuracy: 0.6149\n",
            "Epoch 54/250\n",
            "111/111 [==============================] - 0s 4ms/step - loss: 1.0199 - sparse_categorical_accuracy: 0.5721 - val_loss: 0.8123 - val_sparse_categorical_accuracy: 0.6081\n",
            "Epoch 55/250\n",
            "111/111 [==============================] - 0s 4ms/step - loss: 1.1678 - sparse_categorical_accuracy: 0.5946 - val_loss: 0.8527 - val_sparse_categorical_accuracy: 0.6419\n",
            "Epoch 56/250\n",
            "111/111 [==============================] - 0s 4ms/step - loss: 1.0436 - sparse_categorical_accuracy: 0.5541 - val_loss: 0.7611 - val_sparse_categorical_accuracy: 0.7297\n",
            "Epoch 57/250\n",
            "111/111 [==============================] - 0s 4ms/step - loss: 1.1244 - sparse_categorical_accuracy: 0.5676 - val_loss: 0.7585 - val_sparse_categorical_accuracy: 0.7095\n",
            "Epoch 58/250\n",
            "111/111 [==============================] - 0s 4ms/step - loss: 1.4321 - sparse_categorical_accuracy: 0.5405 - val_loss: 0.8590 - val_sparse_categorical_accuracy: 0.6824\n",
            "Epoch 59/250\n",
            "111/111 [==============================] - 0s 4ms/step - loss: 1.1130 - sparse_categorical_accuracy: 0.6351 - val_loss: 0.8130 - val_sparse_categorical_accuracy: 0.7095\n",
            "Epoch 60/250\n",
            "111/111 [==============================] - 0s 3ms/step - loss: 1.0314 - sparse_categorical_accuracy: 0.5721 - val_loss: 0.8434 - val_sparse_categorical_accuracy: 0.7095\n",
            "Epoch 61/250\n",
            "111/111 [==============================] - 0s 4ms/step - loss: 1.0137 - sparse_categorical_accuracy: 0.5991 - val_loss: 0.7520 - val_sparse_categorical_accuracy: 0.7500\n",
            "Epoch 62/250\n",
            "111/111 [==============================] - 0s 4ms/step - loss: 0.9901 - sparse_categorical_accuracy: 0.6081 - val_loss: 0.7441 - val_sparse_categorical_accuracy: 0.7297\n",
            "Epoch 63/250\n",
            "111/111 [==============================] - 0s 4ms/step - loss: 1.0899 - sparse_categorical_accuracy: 0.5811 - val_loss: 0.7474 - val_sparse_categorical_accuracy: 0.7432\n",
            "Epoch 64/250\n",
            "111/111 [==============================] - 0s 4ms/step - loss: 1.0336 - sparse_categorical_accuracy: 0.5676 - val_loss: 0.7367 - val_sparse_categorical_accuracy: 0.7230\n",
            "Epoch 65/250\n",
            "111/111 [==============================] - 0s 4ms/step - loss: 1.0481 - sparse_categorical_accuracy: 0.5901 - val_loss: 0.7334 - val_sparse_categorical_accuracy: 0.6892\n",
            "Epoch 66/250\n",
            "111/111 [==============================] - 0s 3ms/step - loss: 0.9039 - sparse_categorical_accuracy: 0.6396 - val_loss: 0.7163 - val_sparse_categorical_accuracy: 0.7635\n",
            "Epoch 67/250\n",
            "111/111 [==============================] - 0s 3ms/step - loss: 0.8656 - sparse_categorical_accuracy: 0.6441 - val_loss: 0.6537 - val_sparse_categorical_accuracy: 0.7568\n",
            "Epoch 68/250\n",
            "111/111 [==============================] - 0s 3ms/step - loss: 0.8251 - sparse_categorical_accuracy: 0.6622 - val_loss: 0.6766 - val_sparse_categorical_accuracy: 0.7568\n",
            "Epoch 69/250\n",
            "111/111 [==============================] - 0s 4ms/step - loss: 0.8165 - sparse_categorical_accuracy: 0.6486 - val_loss: 0.6459 - val_sparse_categorical_accuracy: 0.7635\n",
            "Epoch 70/250\n",
            "111/111 [==============================] - 0s 3ms/step - loss: 0.8961 - sparse_categorical_accuracy: 0.6441 - val_loss: 0.7073 - val_sparse_categorical_accuracy: 0.7568\n",
            "Epoch 71/250\n",
            "111/111 [==============================] - 0s 3ms/step - loss: 0.9099 - sparse_categorical_accuracy: 0.6306 - val_loss: 0.7759 - val_sparse_categorical_accuracy: 0.7095\n",
            "Epoch 72/250\n",
            "111/111 [==============================] - 0s 3ms/step - loss: 0.8264 - sparse_categorical_accuracy: 0.6667 - val_loss: 0.7046 - val_sparse_categorical_accuracy: 0.7770\n",
            "Epoch 73/250\n",
            "111/111 [==============================] - 0s 3ms/step - loss: 0.7822 - sparse_categorical_accuracy: 0.6937 - val_loss: 0.6629 - val_sparse_categorical_accuracy: 0.7500\n",
            "Epoch 74/250\n",
            "111/111 [==============================] - 0s 3ms/step - loss: 0.9556 - sparse_categorical_accuracy: 0.6396 - val_loss: 0.6166 - val_sparse_categorical_accuracy: 0.7838\n",
            "Epoch 75/250\n",
            "111/111 [==============================] - 0s 3ms/step - loss: 0.7320 - sparse_categorical_accuracy: 0.7342 - val_loss: 0.7145 - val_sparse_categorical_accuracy: 0.7297\n",
            "Epoch 76/250\n",
            "111/111 [==============================] - 0s 3ms/step - loss: 0.8910 - sparse_categorical_accuracy: 0.6847 - val_loss: 0.7248 - val_sparse_categorical_accuracy: 0.7905\n",
            "Epoch 77/250\n",
            "111/111 [==============================] - 0s 3ms/step - loss: 0.8882 - sparse_categorical_accuracy: 0.6577 - val_loss: 0.7014 - val_sparse_categorical_accuracy: 0.7703\n",
            "Epoch 78/250\n",
            "111/111 [==============================] - 0s 3ms/step - loss: 0.8559 - sparse_categorical_accuracy: 0.7117 - val_loss: 0.7417 - val_sparse_categorical_accuracy: 0.7703\n",
            "Epoch 79/250\n",
            "111/111 [==============================] - 0s 3ms/step - loss: 0.8774 - sparse_categorical_accuracy: 0.6577 - val_loss: 0.7524 - val_sparse_categorical_accuracy: 0.7365\n",
            "Epoch 80/250\n",
            "111/111 [==============================] - 0s 3ms/step - loss: 0.7131 - sparse_categorical_accuracy: 0.7072 - val_loss: 0.6863 - val_sparse_categorical_accuracy: 0.7703\n",
            "Epoch 81/250\n",
            "111/111 [==============================] - 0s 3ms/step - loss: 0.9842 - sparse_categorical_accuracy: 0.6306 - val_loss: 0.6576 - val_sparse_categorical_accuracy: 0.8243\n",
            "Epoch 82/250\n",
            "111/111 [==============================] - 0s 3ms/step - loss: 0.8179 - sparse_categorical_accuracy: 0.7162 - val_loss: 0.6110 - val_sparse_categorical_accuracy: 0.7973\n",
            "Epoch 83/250\n",
            "111/111 [==============================] - 0s 3ms/step - loss: 0.7621 - sparse_categorical_accuracy: 0.7207 - val_loss: 0.6662 - val_sparse_categorical_accuracy: 0.7838\n",
            "Epoch 84/250\n",
            "111/111 [==============================] - 0s 3ms/step - loss: 0.7678 - sparse_categorical_accuracy: 0.6982 - val_loss: 0.7164 - val_sparse_categorical_accuracy: 0.8176\n",
            "Epoch 85/250\n",
            "111/111 [==============================] - 0s 3ms/step - loss: 0.8501 - sparse_categorical_accuracy: 0.7477 - val_loss: 0.6373 - val_sparse_categorical_accuracy: 0.8446\n",
            "Epoch 86/250\n",
            "111/111 [==============================] - 0s 3ms/step - loss: 0.7678 - sparse_categorical_accuracy: 0.7207 - val_loss: 0.6771 - val_sparse_categorical_accuracy: 0.8311\n",
            "Epoch 87/250\n",
            "111/111 [==============================] - 0s 3ms/step - loss: 0.8063 - sparse_categorical_accuracy: 0.6982 - val_loss: 0.6274 - val_sparse_categorical_accuracy: 0.8378\n",
            "Epoch 88/250\n",
            "111/111 [==============================] - 0s 3ms/step - loss: 0.7356 - sparse_categorical_accuracy: 0.7297 - val_loss: 0.5950 - val_sparse_categorical_accuracy: 0.8311\n",
            "Epoch 89/250\n",
            "111/111 [==============================] - 0s 3ms/step - loss: 0.7474 - sparse_categorical_accuracy: 0.7477 - val_loss: 0.5737 - val_sparse_categorical_accuracy: 0.8176\n",
            "Epoch 90/250\n",
            "111/111 [==============================] - 0s 3ms/step - loss: 0.6539 - sparse_categorical_accuracy: 0.7387 - val_loss: 0.5716 - val_sparse_categorical_accuracy: 0.8108\n",
            "Epoch 91/250\n",
            "111/111 [==============================] - 0s 3ms/step - loss: 0.7318 - sparse_categorical_accuracy: 0.7432 - val_loss: 0.5239 - val_sparse_categorical_accuracy: 0.7973\n",
            "Epoch 92/250\n",
            "111/111 [==============================] - 0s 3ms/step - loss: 0.6279 - sparse_categorical_accuracy: 0.8153 - val_loss: 0.5353 - val_sparse_categorical_accuracy: 0.8311\n",
            "Epoch 93/250\n",
            "111/111 [==============================] - 0s 3ms/step - loss: 0.6533 - sparse_categorical_accuracy: 0.7883 - val_loss: 0.5264 - val_sparse_categorical_accuracy: 0.8311\n",
            "Epoch 94/250\n",
            "111/111 [==============================] - 0s 4ms/step - loss: 0.6423 - sparse_categorical_accuracy: 0.7748 - val_loss: 0.5264 - val_sparse_categorical_accuracy: 0.8311\n",
            "Epoch 95/250\n",
            "111/111 [==============================] - 0s 3ms/step - loss: 0.8679 - sparse_categorical_accuracy: 0.7432 - val_loss: 0.5460 - val_sparse_categorical_accuracy: 0.8581\n",
            "Epoch 96/250\n",
            "111/111 [==============================] - 0s 3ms/step - loss: 0.7450 - sparse_categorical_accuracy: 0.7568 - val_loss: 0.5335 - val_sparse_categorical_accuracy: 0.8446\n",
            "Epoch 97/250\n",
            "111/111 [==============================] - 0s 3ms/step - loss: 0.6710 - sparse_categorical_accuracy: 0.7477 - val_loss: 0.6025 - val_sparse_categorical_accuracy: 0.8311\n",
            "Epoch 98/250\n",
            "111/111 [==============================] - 0s 3ms/step - loss: 0.7767 - sparse_categorical_accuracy: 0.7613 - val_loss: 0.6099 - val_sparse_categorical_accuracy: 0.8243\n",
            "Epoch 99/250\n",
            "111/111 [==============================] - 0s 3ms/step - loss: 0.7695 - sparse_categorical_accuracy: 0.7748 - val_loss: 0.6280 - val_sparse_categorical_accuracy: 0.7973\n",
            "Epoch 100/250\n",
            "111/111 [==============================] - 0s 3ms/step - loss: 0.6427 - sparse_categorical_accuracy: 0.7973 - val_loss: 0.6165 - val_sparse_categorical_accuracy: 0.7838\n",
            "Epoch 101/250\n",
            "111/111 [==============================] - 0s 3ms/step - loss: 0.5413 - sparse_categorical_accuracy: 0.8153 - val_loss: 0.5874 - val_sparse_categorical_accuracy: 0.8243\n",
            "Epoch 102/250\n",
            "111/111 [==============================] - 0s 3ms/step - loss: 0.7017 - sparse_categorical_accuracy: 0.7703 - val_loss: 0.6172 - val_sparse_categorical_accuracy: 0.7905\n",
            "Epoch 103/250\n",
            "111/111 [==============================] - 0s 3ms/step - loss: 0.6366 - sparse_categorical_accuracy: 0.8018 - val_loss: 0.5818 - val_sparse_categorical_accuracy: 0.8514\n",
            "Epoch 104/250\n",
            "111/111 [==============================] - 0s 3ms/step - loss: 0.5524 - sparse_categorical_accuracy: 0.8018 - val_loss: 0.6398 - val_sparse_categorical_accuracy: 0.8446\n",
            "Epoch 105/250\n",
            "111/111 [==============================] - 0s 3ms/step - loss: 0.7038 - sparse_categorical_accuracy: 0.8378 - val_loss: 0.4636 - val_sparse_categorical_accuracy: 0.8649\n",
            "Epoch 106/250\n",
            "111/111 [==============================] - 0s 3ms/step - loss: 0.6184 - sparse_categorical_accuracy: 0.7883 - val_loss: 0.4725 - val_sparse_categorical_accuracy: 0.8514\n",
            "Epoch 107/250\n",
            "111/111 [==============================] - 0s 3ms/step - loss: 0.7192 - sparse_categorical_accuracy: 0.7883 - val_loss: 0.4743 - val_sparse_categorical_accuracy: 0.8243\n",
            "Epoch 108/250\n",
            "111/111 [==============================] - 0s 3ms/step - loss: 0.5546 - sparse_categorical_accuracy: 0.8378 - val_loss: 0.4974 - val_sparse_categorical_accuracy: 0.8243\n",
            "Epoch 109/250\n",
            "111/111 [==============================] - 0s 3ms/step - loss: 0.5422 - sparse_categorical_accuracy: 0.8153 - val_loss: 0.4890 - val_sparse_categorical_accuracy: 0.8446\n",
            "Epoch 110/250\n",
            "111/111 [==============================] - 0s 3ms/step - loss: 0.5540 - sparse_categorical_accuracy: 0.8333 - val_loss: 0.4810 - val_sparse_categorical_accuracy: 0.8446\n",
            "Epoch 111/250\n",
            "111/111 [==============================] - 0s 3ms/step - loss: 0.6513 - sparse_categorical_accuracy: 0.7838 - val_loss: 0.4359 - val_sparse_categorical_accuracy: 0.8784\n",
            "Epoch 112/250\n",
            "111/111 [==============================] - 0s 3ms/step - loss: 0.5966 - sparse_categorical_accuracy: 0.8198 - val_loss: 0.4854 - val_sparse_categorical_accuracy: 0.8446\n",
            "Epoch 113/250\n",
            "111/111 [==============================] - 0s 3ms/step - loss: 0.6653 - sparse_categorical_accuracy: 0.8333 - val_loss: 0.5561 - val_sparse_categorical_accuracy: 0.9054\n",
            "Epoch 114/250\n",
            "111/111 [==============================] - 0s 3ms/step - loss: 0.5737 - sparse_categorical_accuracy: 0.8108 - val_loss: 0.4650 - val_sparse_categorical_accuracy: 0.8784\n",
            "Epoch 115/250\n",
            "111/111 [==============================] - 0s 3ms/step - loss: 0.4991 - sparse_categorical_accuracy: 0.8604 - val_loss: 0.5775 - val_sparse_categorical_accuracy: 0.8446\n",
            "Epoch 116/250\n",
            "111/111 [==============================] - 0s 3ms/step - loss: 0.5032 - sparse_categorical_accuracy: 0.8784 - val_loss: 0.5437 - val_sparse_categorical_accuracy: 0.8446\n",
            "Epoch 117/250\n",
            "111/111 [==============================] - 0s 3ms/step - loss: 0.4625 - sparse_categorical_accuracy: 0.8333 - val_loss: 0.4615 - val_sparse_categorical_accuracy: 0.8784\n",
            "Epoch 118/250\n",
            "111/111 [==============================] - 0s 3ms/step - loss: 0.4023 - sparse_categorical_accuracy: 0.8694 - val_loss: 0.5116 - val_sparse_categorical_accuracy: 0.8784\n",
            "Epoch 119/250\n",
            "111/111 [==============================] - 0s 3ms/step - loss: 0.6104 - sparse_categorical_accuracy: 0.8423 - val_loss: 0.4000 - val_sparse_categorical_accuracy: 0.8446\n",
            "Epoch 120/250\n",
            "111/111 [==============================] - 0s 3ms/step - loss: 0.6041 - sparse_categorical_accuracy: 0.8063 - val_loss: 0.3672 - val_sparse_categorical_accuracy: 0.8851\n",
            "Epoch 121/250\n",
            "111/111 [==============================] - 0s 3ms/step - loss: 0.5856 - sparse_categorical_accuracy: 0.8108 - val_loss: 0.3901 - val_sparse_categorical_accuracy: 0.9054\n",
            "Epoch 122/250\n",
            "111/111 [==============================] - 0s 3ms/step - loss: 0.6156 - sparse_categorical_accuracy: 0.8198 - val_loss: 0.5395 - val_sparse_categorical_accuracy: 0.8446\n",
            "Epoch 123/250\n",
            "111/111 [==============================] - 0s 3ms/step - loss: 0.6519 - sparse_categorical_accuracy: 0.8063 - val_loss: 0.4592 - val_sparse_categorical_accuracy: 0.8514\n",
            "Epoch 124/250\n",
            "111/111 [==============================] - 0s 3ms/step - loss: 0.6116 - sparse_categorical_accuracy: 0.8333 - val_loss: 0.4881 - val_sparse_categorical_accuracy: 0.8514\n",
            "Epoch 125/250\n",
            "111/111 [==============================] - 0s 4ms/step - loss: 0.4893 - sparse_categorical_accuracy: 0.8468 - val_loss: 0.4407 - val_sparse_categorical_accuracy: 0.8851\n",
            "Epoch 126/250\n",
            "111/111 [==============================] - 0s 3ms/step - loss: 0.5792 - sparse_categorical_accuracy: 0.8243 - val_loss: 0.4240 - val_sparse_categorical_accuracy: 0.8649\n",
            "Epoch 127/250\n",
            "111/111 [==============================] - 0s 3ms/step - loss: 0.5764 - sparse_categorical_accuracy: 0.8468 - val_loss: 0.3575 - val_sparse_categorical_accuracy: 0.8716\n",
            "Epoch 128/250\n",
            "111/111 [==============================] - 0s 3ms/step - loss: 0.5045 - sparse_categorical_accuracy: 0.8694 - val_loss: 0.3187 - val_sparse_categorical_accuracy: 0.8784\n",
            "Epoch 129/250\n",
            "111/111 [==============================] - 0s 3ms/step - loss: 0.5421 - sparse_categorical_accuracy: 0.8288 - val_loss: 0.3044 - val_sparse_categorical_accuracy: 0.8986\n",
            "Epoch 130/250\n",
            "111/111 [==============================] - 0s 3ms/step - loss: 0.5539 - sparse_categorical_accuracy: 0.8468 - val_loss: 0.3026 - val_sparse_categorical_accuracy: 0.8919\n",
            "Epoch 131/250\n",
            "111/111 [==============================] - 0s 3ms/step - loss: 0.5756 - sparse_categorical_accuracy: 0.7973 - val_loss: 0.3085 - val_sparse_categorical_accuracy: 0.8784\n",
            "Epoch 132/250\n",
            "111/111 [==============================] - 0s 3ms/step - loss: 0.5536 - sparse_categorical_accuracy: 0.8378 - val_loss: 0.6930 - val_sparse_categorical_accuracy: 0.8514\n",
            "Epoch 133/250\n",
            "111/111 [==============================] - 0s 3ms/step - loss: 0.4745 - sparse_categorical_accuracy: 0.8423 - val_loss: 0.3593 - val_sparse_categorical_accuracy: 0.8649\n",
            "Epoch 134/250\n",
            "111/111 [==============================] - 0s 3ms/step - loss: 0.4865 - sparse_categorical_accuracy: 0.8153 - val_loss: 0.3606 - val_sparse_categorical_accuracy: 0.8784\n",
            "Epoch 135/250\n",
            "111/111 [==============================] - 0s 3ms/step - loss: 0.4897 - sparse_categorical_accuracy: 0.8919 - val_loss: 0.4292 - val_sparse_categorical_accuracy: 0.8649\n",
            "Epoch 136/250\n",
            "111/111 [==============================] - 0s 3ms/step - loss: 0.6278 - sparse_categorical_accuracy: 0.8378 - val_loss: 0.3825 - val_sparse_categorical_accuracy: 0.8514\n",
            "Epoch 137/250\n",
            "111/111 [==============================] - 0s 3ms/step - loss: 0.5401 - sparse_categorical_accuracy: 0.8423 - val_loss: 0.4548 - val_sparse_categorical_accuracy: 0.8716\n",
            "Epoch 138/250\n",
            "111/111 [==============================] - 0s 3ms/step - loss: 0.4932 - sparse_categorical_accuracy: 0.8468 - val_loss: 0.4652 - val_sparse_categorical_accuracy: 0.8378\n",
            "Epoch 139/250\n",
            "111/111 [==============================] - 0s 3ms/step - loss: 0.4076 - sparse_categorical_accuracy: 0.8649 - val_loss: 0.3381 - val_sparse_categorical_accuracy: 0.8514\n",
            "Epoch 140/250\n",
            "111/111 [==============================] - 0s 3ms/step - loss: 0.4104 - sparse_categorical_accuracy: 0.8694 - val_loss: 0.3124 - val_sparse_categorical_accuracy: 0.8784\n",
            "Epoch 141/250\n",
            "111/111 [==============================] - 0s 3ms/step - loss: 0.6842 - sparse_categorical_accuracy: 0.8198 - val_loss: 0.3995 - val_sparse_categorical_accuracy: 0.8581\n",
            "Epoch 142/250\n",
            "111/111 [==============================] - 0s 3ms/step - loss: 0.4240 - sparse_categorical_accuracy: 0.8649 - val_loss: 0.3433 - val_sparse_categorical_accuracy: 0.8986\n",
            "Epoch 143/250\n",
            "111/111 [==============================] - 0s 3ms/step - loss: 0.6736 - sparse_categorical_accuracy: 0.8198 - val_loss: 0.3242 - val_sparse_categorical_accuracy: 0.9189\n",
            "Epoch 144/250\n",
            "111/111 [==============================] - 0s 3ms/step - loss: 0.3887 - sparse_categorical_accuracy: 0.8649 - val_loss: 0.2601 - val_sparse_categorical_accuracy: 0.9324\n",
            "Epoch 145/250\n",
            "111/111 [==============================] - 0s 3ms/step - loss: 0.6206 - sparse_categorical_accuracy: 0.8423 - val_loss: 0.2069 - val_sparse_categorical_accuracy: 0.9324\n",
            "Epoch 146/250\n",
            "111/111 [==============================] - 0s 4ms/step - loss: 0.3729 - sparse_categorical_accuracy: 0.8919 - val_loss: 0.2931 - val_sparse_categorical_accuracy: 0.9324\n",
            "Epoch 147/250\n",
            "111/111 [==============================] - 0s 3ms/step - loss: 0.4004 - sparse_categorical_accuracy: 0.8514 - val_loss: 0.3295 - val_sparse_categorical_accuracy: 0.8986\n",
            "Epoch 148/250\n",
            "111/111 [==============================] - 0s 3ms/step - loss: 0.3467 - sparse_categorical_accuracy: 0.9009 - val_loss: 0.3105 - val_sparse_categorical_accuracy: 0.8986\n",
            "Epoch 149/250\n",
            "111/111 [==============================] - 0s 3ms/step - loss: 0.4978 - sparse_categorical_accuracy: 0.8784 - val_loss: 0.3607 - val_sparse_categorical_accuracy: 0.8581\n",
            "Epoch 150/250\n",
            "111/111 [==============================] - 0s 3ms/step - loss: 0.5703 - sparse_categorical_accuracy: 0.8423 - val_loss: 0.2929 - val_sparse_categorical_accuracy: 0.8919\n",
            "Epoch 151/250\n",
            "111/111 [==============================] - 0s 3ms/step - loss: 0.3552 - sparse_categorical_accuracy: 0.8919 - val_loss: 0.3948 - val_sparse_categorical_accuracy: 0.8784\n",
            "Epoch 152/250\n",
            "111/111 [==============================] - 0s 3ms/step - loss: 0.4598 - sparse_categorical_accuracy: 0.8739 - val_loss: 0.5243 - val_sparse_categorical_accuracy: 0.8919\n",
            "Epoch 153/250\n",
            "111/111 [==============================] - 0s 3ms/step - loss: 0.4331 - sparse_categorical_accuracy: 0.8739 - val_loss: 0.4675 - val_sparse_categorical_accuracy: 0.9054\n",
            "Epoch 154/250\n",
            "111/111 [==============================] - 0s 3ms/step - loss: 0.3875 - sparse_categorical_accuracy: 0.8649 - val_loss: 0.4562 - val_sparse_categorical_accuracy: 0.9122\n",
            "Epoch 155/250\n",
            "111/111 [==============================] - 0s 3ms/step - loss: 0.4399 - sparse_categorical_accuracy: 0.8964 - val_loss: 0.3396 - val_sparse_categorical_accuracy: 0.9122\n",
            "Epoch 156/250\n",
            "111/111 [==============================] - 0s 3ms/step - loss: 0.4103 - sparse_categorical_accuracy: 0.8694 - val_loss: 0.3501 - val_sparse_categorical_accuracy: 0.8986\n",
            "Epoch 157/250\n",
            "111/111 [==============================] - 0s 3ms/step - loss: 0.3605 - sparse_categorical_accuracy: 0.8784 - val_loss: 0.4249 - val_sparse_categorical_accuracy: 0.8919\n",
            "Epoch 158/250\n",
            "111/111 [==============================] - 0s 3ms/step - loss: 0.6195 - sparse_categorical_accuracy: 0.8604 - val_loss: 0.3599 - val_sparse_categorical_accuracy: 0.8851\n",
            "Epoch 159/250\n",
            "111/111 [==============================] - 0s 3ms/step - loss: 0.6231 - sparse_categorical_accuracy: 0.8694 - val_loss: 0.2969 - val_sparse_categorical_accuracy: 0.8919\n",
            "Epoch 160/250\n",
            "111/111 [==============================] - 0s 3ms/step - loss: 0.4979 - sparse_categorical_accuracy: 0.8559 - val_loss: 0.4021 - val_sparse_categorical_accuracy: 0.8919\n",
            "Epoch 161/250\n",
            "111/111 [==============================] - 0s 3ms/step - loss: 0.3897 - sparse_categorical_accuracy: 0.8829 - val_loss: 0.3211 - val_sparse_categorical_accuracy: 0.9122\n",
            "Epoch 162/250\n",
            "111/111 [==============================] - 0s 3ms/step - loss: 0.9518 - sparse_categorical_accuracy: 0.8288 - val_loss: 0.1612 - val_sparse_categorical_accuracy: 0.9730\n",
            "Epoch 163/250\n",
            "111/111 [==============================] - 0s 3ms/step - loss: 0.7687 - sparse_categorical_accuracy: 0.8739 - val_loss: 0.2989 - val_sparse_categorical_accuracy: 0.9054\n",
            "Epoch 164/250\n",
            "111/111 [==============================] - 0s 3ms/step - loss: 0.3409 - sparse_categorical_accuracy: 0.8784 - val_loss: 0.2670 - val_sparse_categorical_accuracy: 0.9257\n",
            "Epoch 165/250\n",
            "111/111 [==============================] - 0s 3ms/step - loss: 0.7453 - sparse_categorical_accuracy: 0.8378 - val_loss: 0.3729 - val_sparse_categorical_accuracy: 0.8784\n",
            "Epoch 166/250\n",
            "111/111 [==============================] - 0s 3ms/step - loss: 0.5025 - sparse_categorical_accuracy: 0.8604 - val_loss: 0.4263 - val_sparse_categorical_accuracy: 0.9189\n",
            "Epoch 167/250\n",
            "111/111 [==============================] - 0s 3ms/step - loss: 0.3436 - sparse_categorical_accuracy: 0.9009 - val_loss: 0.5559 - val_sparse_categorical_accuracy: 0.9257\n",
            "Epoch 168/250\n",
            "111/111 [==============================] - 0s 3ms/step - loss: 0.4601 - sparse_categorical_accuracy: 0.8694 - val_loss: 0.5123 - val_sparse_categorical_accuracy: 0.9122\n",
            "Epoch 169/250\n",
            "111/111 [==============================] - 0s 3ms/step - loss: 0.3172 - sparse_categorical_accuracy: 0.8694 - val_loss: 0.4811 - val_sparse_categorical_accuracy: 0.9392\n",
            "Epoch 170/250\n",
            "111/111 [==============================] - 0s 3ms/step - loss: 0.4204 - sparse_categorical_accuracy: 0.8694 - val_loss: 0.3885 - val_sparse_categorical_accuracy: 0.9595\n",
            "Epoch 171/250\n",
            "111/111 [==============================] - 0s 3ms/step - loss: 0.3298 - sparse_categorical_accuracy: 0.9054 - val_loss: 0.3046 - val_sparse_categorical_accuracy: 0.9595\n",
            "Epoch 172/250\n",
            "111/111 [==============================] - 0s 3ms/step - loss: 0.3857 - sparse_categorical_accuracy: 0.9144 - val_loss: 0.3937 - val_sparse_categorical_accuracy: 0.9392\n",
            "Epoch 173/250\n",
            "111/111 [==============================] - 0s 3ms/step - loss: 0.4043 - sparse_categorical_accuracy: 0.9009 - val_loss: 0.2869 - val_sparse_categorical_accuracy: 0.9527\n",
            "Epoch 174/250\n",
            "111/111 [==============================] - 0s 3ms/step - loss: 0.5013 - sparse_categorical_accuracy: 0.8649 - val_loss: 0.3577 - val_sparse_categorical_accuracy: 0.9122\n",
            "Epoch 175/250\n",
            "111/111 [==============================] - 0s 3ms/step - loss: 0.6936 - sparse_categorical_accuracy: 0.8243 - val_loss: 0.3981 - val_sparse_categorical_accuracy: 0.8986\n",
            "Epoch 176/250\n",
            "111/111 [==============================] - 0s 3ms/step - loss: 0.5149 - sparse_categorical_accuracy: 0.8649 - val_loss: 0.3538 - val_sparse_categorical_accuracy: 0.8919\n",
            "Epoch 177/250\n",
            "111/111 [==============================] - 0s 3ms/step - loss: 0.3987 - sparse_categorical_accuracy: 0.9009 - val_loss: 0.3283 - val_sparse_categorical_accuracy: 0.9054\n",
            "Epoch 178/250\n",
            "111/111 [==============================] - 0s 3ms/step - loss: 0.3516 - sparse_categorical_accuracy: 0.8694 - val_loss: 0.3125 - val_sparse_categorical_accuracy: 0.8919\n",
            "Epoch 179/250\n",
            "111/111 [==============================] - 0s 4ms/step - loss: 0.5115 - sparse_categorical_accuracy: 0.8739 - val_loss: 0.3295 - val_sparse_categorical_accuracy: 0.9189\n",
            "Epoch 180/250\n",
            "111/111 [==============================] - 0s 3ms/step - loss: 0.3613 - sparse_categorical_accuracy: 0.8874 - val_loss: 0.3118 - val_sparse_categorical_accuracy: 0.9054\n",
            "Epoch 181/250\n",
            "111/111 [==============================] - 0s 3ms/step - loss: 0.2755 - sparse_categorical_accuracy: 0.9369 - val_loss: 0.3974 - val_sparse_categorical_accuracy: 0.9324\n",
            "Epoch 182/250\n",
            "111/111 [==============================] - 0s 3ms/step - loss: 0.3347 - sparse_categorical_accuracy: 0.8829 - val_loss: 0.3413 - val_sparse_categorical_accuracy: 0.9324\n",
            "Epoch 183/250\n",
            "111/111 [==============================] - 0s 3ms/step - loss: 0.3955 - sparse_categorical_accuracy: 0.9009 - val_loss: 0.2416 - val_sparse_categorical_accuracy: 0.9459\n",
            "Epoch 184/250\n",
            "111/111 [==============================] - 0s 3ms/step - loss: 0.1829 - sparse_categorical_accuracy: 0.9414 - val_loss: 0.9988 - val_sparse_categorical_accuracy: 0.9189\n",
            "Epoch 185/250\n",
            "111/111 [==============================] - 0s 4ms/step - loss: 0.3061 - sparse_categorical_accuracy: 0.8784 - val_loss: 0.1463 - val_sparse_categorical_accuracy: 0.9595\n",
            "Epoch 186/250\n",
            "111/111 [==============================] - 0s 3ms/step - loss: 0.2874 - sparse_categorical_accuracy: 0.8919 - val_loss: 0.1533 - val_sparse_categorical_accuracy: 0.9730\n",
            "Epoch 187/250\n",
            "111/111 [==============================] - 0s 3ms/step - loss: 0.2647 - sparse_categorical_accuracy: 0.9189 - val_loss: 0.2625 - val_sparse_categorical_accuracy: 0.9392\n",
            "Epoch 188/250\n",
            "111/111 [==============================] - 0s 3ms/step - loss: 0.3327 - sparse_categorical_accuracy: 0.8874 - val_loss: 0.2170 - val_sparse_categorical_accuracy: 0.9595\n",
            "Epoch 189/250\n",
            "111/111 [==============================] - 0s 3ms/step - loss: 0.3417 - sparse_categorical_accuracy: 0.9099 - val_loss: 0.1887 - val_sparse_categorical_accuracy: 0.9527\n",
            "Epoch 190/250\n",
            "111/111 [==============================] - 0s 3ms/step - loss: 0.5817 - sparse_categorical_accuracy: 0.8829 - val_loss: 0.3562 - val_sparse_categorical_accuracy: 0.9189\n",
            "Epoch 191/250\n",
            "111/111 [==============================] - 0s 3ms/step - loss: 0.3118 - sparse_categorical_accuracy: 0.8874 - val_loss: 0.2962 - val_sparse_categorical_accuracy: 0.9324\n",
            "Epoch 192/250\n",
            "111/111 [==============================] - 0s 3ms/step - loss: 0.3328 - sparse_categorical_accuracy: 0.9099 - val_loss: 0.2731 - val_sparse_categorical_accuracy: 0.9324\n",
            "Epoch 193/250\n",
            "111/111 [==============================] - 0s 3ms/step - loss: 0.2772 - sparse_categorical_accuracy: 0.9279 - val_loss: 0.2807 - val_sparse_categorical_accuracy: 0.9459\n",
            "Epoch 194/250\n",
            "111/111 [==============================] - 0s 3ms/step - loss: 0.6676 - sparse_categorical_accuracy: 0.8784 - val_loss: 0.3757 - val_sparse_categorical_accuracy: 0.9189\n",
            "Epoch 195/250\n",
            "111/111 [==============================] - 0s 3ms/step - loss: 0.3118 - sparse_categorical_accuracy: 0.8964 - val_loss: 0.2247 - val_sparse_categorical_accuracy: 0.9459\n",
            "Epoch 196/250\n",
            "111/111 [==============================] - 0s 3ms/step - loss: 0.2818 - sparse_categorical_accuracy: 0.9234 - val_loss: 0.2266 - val_sparse_categorical_accuracy: 0.9730\n",
            "Epoch 197/250\n",
            "111/111 [==============================] - 0s 3ms/step - loss: 0.4249 - sparse_categorical_accuracy: 0.8919 - val_loss: 0.2551 - val_sparse_categorical_accuracy: 0.9459\n",
            "Epoch 198/250\n",
            "111/111 [==============================] - 0s 3ms/step - loss: 0.4883 - sparse_categorical_accuracy: 0.8784 - val_loss: 0.1400 - val_sparse_categorical_accuracy: 0.9595\n",
            "Epoch 199/250\n",
            "111/111 [==============================] - 0s 3ms/step - loss: 0.5669 - sparse_categorical_accuracy: 0.8514 - val_loss: 0.2230 - val_sparse_categorical_accuracy: 0.9459\n",
            "Epoch 200/250\n",
            "111/111 [==============================] - 0s 3ms/step - loss: 0.2636 - sparse_categorical_accuracy: 0.9189 - val_loss: 0.1668 - val_sparse_categorical_accuracy: 0.9595\n",
            "Epoch 201/250\n",
            "111/111 [==============================] - 0s 3ms/step - loss: 0.5075 - sparse_categorical_accuracy: 0.8739 - val_loss: 0.1939 - val_sparse_categorical_accuracy: 0.9595\n",
            "Epoch 202/250\n",
            "111/111 [==============================] - 0s 3ms/step - loss: 0.3535 - sparse_categorical_accuracy: 0.9009 - val_loss: 0.2123 - val_sparse_categorical_accuracy: 0.9459\n",
            "Epoch 00202: early stopping\n"
          ],
          "name": "stdout"
        }
      ]
    },
    {
      "cell_type": "code",
      "metadata": {
        "id": "4ZNe2oAVN3v4",
        "colab_type": "code",
        "colab": {
          "base_uri": "https://localhost:8080/",
          "height": 295
        },
        "outputId": "b727d39a-debe-4692-e51f-4523d8f6371b"
      },
      "source": [
        "history_dict = classifier.history\n",
        "loss_values = history_dict['loss'] \n",
        "val_loss_values = history_dict['val_loss'] \n",
        "epochs = range(1, len(loss_values) + 1) \n",
        "plt.plot(epochs, loss_values, 'bo', label='Training Loss')\n",
        "plt.plot(epochs, val_loss_values, 'orange', label='Validation Loss')\n",
        "plt.title('Training and validation loss')\n",
        "plt.xlabel('Epochs')\n",
        "plt.ylabel('Loss')\n",
        "plt.legend()\n",
        "plt.show() #Excellent Results, no over/underfitting issues, good convergence"
      ],
      "execution_count": null,
      "outputs": [
        {
          "output_type": "display_data",
          "data": {
            "image/png": "[encoded data removed]",
            "text/plain": [
              "<Figure size 432x288 with 1 Axes>"
            ]
          },
          "metadata": {
            "tags": []
          }
        }
      ]
    },
    {
      "cell_type": "code",
      "metadata": {
        "id": "FcqwXJacUv-m",
        "colab_type": "code",
        "colab": {
          "base_uri": "https://localhost:8080/",
          "height": 295
        },
        "outputId": "44e16ea1-4507-4bc8-d2aa-f808755addef"
      },
      "source": [
        "history_dict = classifier.history\n",
        "loss_values = history_dict['sparse_categorical_accuracy'] \n",
        "val_loss_values = history_dict['val_sparse_categorical_accuracy'] \n",
        "epochs = range(1, len(loss_values) + 1) \n",
        "plt.plot(epochs, loss_values, 'bo', label='Training Acc')\n",
        "plt.plot(epochs, val_loss_values, 'orange', label='Validation Acc')\n",
        "plt.title('Training and validation Acc')\n",
        "plt.xlabel('Epochs')\n",
        "plt.ylabel('Acc')\n",
        "plt.legend()\n",
        "plt.show()"
      ],
      "execution_count": null,
      "outputs": [
        {
          "output_type": "display_data",
          "data": {
            "image/png": "[encoded data removed]",
            "text/plain": [
              "<Figure size 432x288 with 1 Axes>"
            ]
          },
          "metadata": {
            "tags": []
          }
        }
      ]
    },
    {
      "cell_type": "markdown",
      "metadata": {
        "id": "aGindzMhrPPj",
        "colab_type": "text"
      },
      "source": [
        "Savings results/tabulating"
      ]
    },
    {
      "cell_type": "code",
      "metadata": {
        "id": "hVW37mfCQdaq",
        "colab_type": "code",
        "colab": {
          "base_uri": "https://localhost:8080/",
          "height": 537
        },
        "outputId": "f8dc00bc-7ea4-4db7-fad5-412f0f8b94a1"
      },
      "source": [
        "#Training dataset\n",
        "yhat_train_classes = model.predict_classes(X_train, verbose=0)\n",
        "yhat_test_classes = model.predict_classes(X_test, verbose=0)\n",
        "\n",
        "\n",
        "#predicted values\n",
        "myPreds = np.ndarray.flatten(yhat_train_classes)\n",
        "myPreds = pd.DataFrame(myPreds)\n",
        "myPreds.reset_index(drop=True)\n",
        "myPreds.rename(columns={0: \"pred\"}, inplace=True)\n",
        "#actual values\n",
        "myActual = pd.DataFrame(np.array(y_train))\n",
        "myActual.reset_index(drop=True)\n",
        "myActual.rename(columns={0: \"actual\"}, inplace=True)\n",
        "allResults = pd.concat([myActual,myPreds], axis=1)\n",
        "allResults.info()\n",
        "allResults['pred_class'] = allResults['pred']\n",
        "allResults.loc[(allResults.pred==0),'pred_class']='A#'\n",
        "allResults.loc[(allResults.pred==1),'pred_class']='A'\n",
        "allResults.loc[(allResults.pred==2),'pred_class']='B'\n",
        "allResults.loc[(allResults.pred==3),'pred_class']='C#'\n",
        "allResults.loc[(allResults.pred==4),'pred_class']='C'\n",
        "allResults.loc[(allResults.pred==5),'pred_class']='D#'\n",
        "allResults.loc[(allResults.pred==6),'pred_class']='D'\n",
        "allResults.loc[(allResults.pred==7),'pred_class']='E'\n",
        "allResults.loc[(allResults.pred==8),'pred_class']='F#'\n",
        "allResults.loc[(allResults.pred==9),'pred_class']='F'\n",
        "allResults.loc[(allResults.pred==10),'pred_class']='G#'\n",
        "allResults.loc[(allResults.pred==11),'pred_class']='G'\n",
        "allResults.to_csv(r'/content/drive/My Drive/Colab Notebooks/project/Model Results/Training.csv',index = None, header=True)\n",
        "allResults"
      ],
      "execution_count": null,
      "outputs": [
        {
          "output_type": "stream",
          "text": [
            "<class 'pandas.core.frame.DataFrame'>\n",
            "RangeIndex: 222 entries, 0 to 221\n",
            "Data columns (total 2 columns):\n",
            " #   Column  Non-Null Count  Dtype\n",
            "---  ------  --------------  -----\n",
            " 0   actual  222 non-null    int64\n",
            " 1   pred    222 non-null    int64\n",
            "dtypes: int64(2)\n",
            "memory usage: 3.6 KB\n"
          ],
          "name": "stdout"
        },
        {
          "output_type": "execute_result",
          "data": {
            "text/html": [
              "<div>\n",
              "<style scoped>\n",
              "    .dataframe tbody tr th:only-of-type {\n",
              "        vertical-align: middle;\n",
              "    }\n",
              "\n",
              "    .dataframe tbody tr th {\n",
              "        vertical-align: top;\n",
              "    }\n",
              "\n",
              "    .dataframe thead th {\n",
              "        text-align: right;\n",
              "    }\n",
              "</style>\n",
              "<table border=\"1\" class=\"dataframe\">\n",
              "  <thead>\n",
              "    <tr style=\"text-align: right;\">\n",
              "      <th></th>\n",
              "      <th>actual</th>\n",
              "      <th>pred</th>\n",
              "      <th>pred_class</th>\n",
              "    </tr>\n",
              "  </thead>\n",
              "  <tbody>\n",
              "    <tr>\n",
              "      <th>0</th>\n",
              "      <td>10</td>\n",
              "      <td>10</td>\n",
              "      <td>G#</td>\n",
              "    </tr>\n",
              "    <tr>\n",
              "      <th>1</th>\n",
              "      <td>2</td>\n",
              "      <td>2</td>\n",
              "      <td>B</td>\n",
              "    </tr>\n",
              "    <tr>\n",
              "      <th>2</th>\n",
              "      <td>3</td>\n",
              "      <td>3</td>\n",
              "      <td>C#</td>\n",
              "    </tr>\n",
              "    <tr>\n",
              "      <th>3</th>\n",
              "      <td>0</td>\n",
              "      <td>0</td>\n",
              "      <td>A#</td>\n",
              "    </tr>\n",
              "    <tr>\n",
              "      <th>4</th>\n",
              "      <td>1</td>\n",
              "      <td>1</td>\n",
              "      <td>A</td>\n",
              "    </tr>\n",
              "    <tr>\n",
              "      <th>...</th>\n",
              "      <td>...</td>\n",
              "      <td>...</td>\n",
              "      <td>...</td>\n",
              "    </tr>\n",
              "    <tr>\n",
              "      <th>217</th>\n",
              "      <td>5</td>\n",
              "      <td>5</td>\n",
              "      <td>D#</td>\n",
              "    </tr>\n",
              "    <tr>\n",
              "      <th>218</th>\n",
              "      <td>7</td>\n",
              "      <td>7</td>\n",
              "      <td>E</td>\n",
              "    </tr>\n",
              "    <tr>\n",
              "      <th>219</th>\n",
              "      <td>1</td>\n",
              "      <td>1</td>\n",
              "      <td>A</td>\n",
              "    </tr>\n",
              "    <tr>\n",
              "      <th>220</th>\n",
              "      <td>5</td>\n",
              "      <td>5</td>\n",
              "      <td>D#</td>\n",
              "    </tr>\n",
              "    <tr>\n",
              "      <th>221</th>\n",
              "      <td>2</td>\n",
              "      <td>2</td>\n",
              "      <td>B</td>\n",
              "    </tr>\n",
              "  </tbody>\n",
              "</table>\n",
              "<p>222 rows × 3 columns</p>\n",
              "</div>"
            ],
            "text/plain": [
              "     actual  pred pred_class\n",
              "0        10    10         G#\n",
              "1         2     2          B\n",
              "2         3     3         C#\n",
              "3         0     0         A#\n",
              "4         1     1          A\n",
              "..      ...   ...        ...\n",
              "217       5     5         D#\n",
              "218       7     7          E\n",
              "219       1     1          A\n",
              "220       5     5         D#\n",
              "221       2     2          B\n",
              "\n",
              "[222 rows x 3 columns]"
            ]
          },
          "metadata": {
            "tags": []
          },
          "execution_count": 473
        }
      ]
    },
    {
      "cell_type": "code",
      "metadata": {
        "id": "GWx_d6skld7t",
        "colab_type": "code",
        "colab": {
          "base_uri": "https://localhost:8080/",
          "height": 391
        },
        "outputId": "ec6fee8f-6038-4eb4-ba6e-da4f7810d5e5"
      },
      "source": [
        "# Test dataset\n",
        "#predicted values\n",
        "myPreds = np.ndarray.flatten(yhat_test_classes)\n",
        "myPreds = pd.DataFrame(myPreds)\n",
        "myPreds.reset_index(drop=True)\n",
        "myPreds.rename(columns={0: \"test\"}, inplace=True)\n",
        "#actual predictions\n",
        "myActual = pd.DataFrame(np.array(y_test))\n",
        "myActual.reset_index(drop=True)\n",
        "myActual.rename(columns={0: \"actual\"}, inplace=True)\n",
        "allResults = pd.concat([myActual,myPreds], axis=1)\n",
        "allResults['test_class'] = allResults['test']\n",
        "allResults.loc[(allResults.test==0),'test_class']='A#'\n",
        "allResults.loc[(allResults.test==1),'test_class']='A'\n",
        "allResults.loc[(allResults.test==2),'test_class']='B'\n",
        "allResults.loc[(allResults.test==3),'test_class']='C#'\n",
        "allResults.loc[(allResults.test==4),'test_class']='C'\n",
        "allResults.loc[(allResults.test==5),'test_class']='D#'\n",
        "allResults.loc[(allResults.test==6),'test_class']='D'\n",
        "allResults.loc[(allResults.test==7),'test_class']='E'\n",
        "allResults.loc[(allResults.test==8),'test_class']='F#'\n",
        "allResults.loc[(allResults.test==9),'test_class']='F'\n",
        "allResults.loc[(allResults.test==10),'test_class']='G#'\n",
        "allResults.loc[(allResults.test==11),'test_class']='G'\n",
        "allResults.to_csv(r'/content/drive/My Drive/Colab Notebooks/project/Model Results/Testing.csv',index = None, header=True)\n",
        "allResults"
      ],
      "execution_count": null,
      "outputs": [
        {
          "output_type": "execute_result",
          "data": {
            "text/html": [
              "<div>\n",
              "<style scoped>\n",
              "    .dataframe tbody tr th:only-of-type {\n",
              "        vertical-align: middle;\n",
              "    }\n",
              "\n",
              "    .dataframe tbody tr th {\n",
              "        vertical-align: top;\n",
              "    }\n",
              "\n",
              "    .dataframe thead th {\n",
              "        text-align: right;\n",
              "    }\n",
              "</style>\n",
              "<table border=\"1\" class=\"dataframe\">\n",
              "  <thead>\n",
              "    <tr style=\"text-align: right;\">\n",
              "      <th></th>\n",
              "      <th>actual</th>\n",
              "      <th>test</th>\n",
              "      <th>test_class</th>\n",
              "    </tr>\n",
              "  </thead>\n",
              "  <tbody>\n",
              "    <tr>\n",
              "      <th>0</th>\n",
              "      <td>5</td>\n",
              "      <td>5</td>\n",
              "      <td>D#</td>\n",
              "    </tr>\n",
              "    <tr>\n",
              "      <th>1</th>\n",
              "      <td>0</td>\n",
              "      <td>0</td>\n",
              "      <td>A#</td>\n",
              "    </tr>\n",
              "    <tr>\n",
              "      <th>2</th>\n",
              "      <td>11</td>\n",
              "      <td>11</td>\n",
              "      <td>G</td>\n",
              "    </tr>\n",
              "    <tr>\n",
              "      <th>3</th>\n",
              "      <td>7</td>\n",
              "      <td>7</td>\n",
              "      <td>E</td>\n",
              "    </tr>\n",
              "    <tr>\n",
              "      <th>4</th>\n",
              "      <td>8</td>\n",
              "      <td>8</td>\n",
              "      <td>F#</td>\n",
              "    </tr>\n",
              "    <tr>\n",
              "      <th>...</th>\n",
              "      <td>...</td>\n",
              "      <td>...</td>\n",
              "      <td>...</td>\n",
              "    </tr>\n",
              "    <tr>\n",
              "      <th>143</th>\n",
              "      <td>1</td>\n",
              "      <td>1</td>\n",
              "      <td>A</td>\n",
              "    </tr>\n",
              "    <tr>\n",
              "      <th>144</th>\n",
              "      <td>10</td>\n",
              "      <td>10</td>\n",
              "      <td>G#</td>\n",
              "    </tr>\n",
              "    <tr>\n",
              "      <th>145</th>\n",
              "      <td>5</td>\n",
              "      <td>5</td>\n",
              "      <td>D#</td>\n",
              "    </tr>\n",
              "    <tr>\n",
              "      <th>146</th>\n",
              "      <td>2</td>\n",
              "      <td>2</td>\n",
              "      <td>B</td>\n",
              "    </tr>\n",
              "    <tr>\n",
              "      <th>147</th>\n",
              "      <td>10</td>\n",
              "      <td>10</td>\n",
              "      <td>G#</td>\n",
              "    </tr>\n",
              "  </tbody>\n",
              "</table>\n",
              "<p>148 rows × 3 columns</p>\n",
              "</div>"
            ],
            "text/plain": [
              "     actual  test test_class\n",
              "0         5     5         D#\n",
              "1         0     0         A#\n",
              "2        11    11          G\n",
              "3         7     7          E\n",
              "4         8     8         F#\n",
              "..      ...   ...        ...\n",
              "143       1     1          A\n",
              "144      10    10         G#\n",
              "145       5     5         D#\n",
              "146       2     2          B\n",
              "147      10    10         G#\n",
              "\n",
              "[148 rows x 3 columns]"
            ]
          },
          "metadata": {
            "tags": []
          },
          "execution_count": 474
        }
      ]
    },
    {
      "cell_type": "code",
      "metadata": {
        "id": "_vV12yC3nRyC",
        "colab_type": "code",
        "colab": {
          "base_uri": "https://localhost:8080/",
          "height": 537
        },
        "outputId": "bc5bf44a-adde-47b6-acdb-71028f369ce3"
      },
      "source": [
        "# make predictions on the testing data\n",
        "from sklearn.metrics import classification_report, confusion_matrix\n",
        "#Confusion Matrix and Classification Report\n",
        "\n",
        "y_true = y_test\n",
        "y_pred = model.predict_classes(X_test, verbose=0)\n",
        "target_names = ['A#','A','B','C#','C','D#','D','E','F#','F','G#','G'] \n",
        "\n",
        "print(classification_report(y_true, y_pred, target_names=target_names))\n",
        "\n",
        "#matrix = confusion_matrix(Xbin_val, ybin_val)\n",
        "\n",
        "# predict probabilities for test set\n",
        "yhat_probs = model.predict(X_test, verbose=0)\n",
        "# predict crisp classes for test set\n",
        "yhat_classes = model.predict_classes(X_test, verbose=0)\n",
        "# reduce to 1d array\n",
        "\n",
        "matrix = confusion_matrix(y_test, y_pred)\n",
        "matrix = pd.DataFrame(matrix)\n",
        "matrix.index = ['A#','A','B','C#','C','D#','D','E','F#','F','G#','G'] \n",
        "matrix.columns=['A#','A','B','C#','C','D#','D','E','F#','F','G#','G']\n",
        "print(matrix)  #very good results, but the few mistakes/misclassifications are not close to other notes, they're distant"
      ],
      "execution_count": null,
      "outputs": [
        {
          "output_type": "stream",
          "text": [
            "              precision    recall  f1-score   support\n",
            "\n",
            "          A#       1.00      1.00      1.00        12\n",
            "           A       1.00      1.00      1.00        12\n",
            "           B       1.00      0.83      0.91        12\n",
            "          C#       1.00      1.00      1.00        12\n",
            "           C       0.86      1.00      0.92        12\n",
            "          D#       1.00      1.00      1.00        12\n",
            "           D       0.83      0.83      0.83        12\n",
            "           E       0.88      0.88      0.88        16\n",
            "          F#       1.00      1.00      1.00        12\n",
            "           F       1.00      0.83      0.91        12\n",
            "          G#       1.00      1.00      1.00        12\n",
            "           G       0.86      1.00      0.92        12\n",
            "\n",
            "    accuracy                           0.95       148\n",
            "   macro avg       0.95      0.95      0.95       148\n",
            "weighted avg       0.95      0.95      0.95       148\n",
            "\n",
            "    A#   A   B  C#   C  D#   D   E  F#   F  G#   G\n",
            "A#  12   0   0   0   0   0   0   0   0   0   0   0\n",
            "A    0  12   0   0   0   0   0   0   0   0   0   0\n",
            "B    0   0  10   0   0   0   2   0   0   0   0   0\n",
            "C#   0   0   0  12   0   0   0   0   0   0   0   0\n",
            "C    0   0   0   0  12   0   0   0   0   0   0   0\n",
            "D#   0   0   0   0   0  12   0   0   0   0   0   0\n",
            "D    0   0   0   0   0   0  10   0   0   0   0   2\n",
            "E    0   0   0   0   2   0   0  14   0   0   0   0\n",
            "F#   0   0   0   0   0   0   0   0  12   0   0   0\n",
            "F    0   0   0   0   0   0   0   2   0  10   0   0\n",
            "G#   0   0   0   0   0   0   0   0   0   0  12   0\n",
            "G    0   0   0   0   0   0   0   0   0   0   0  12\n"
          ],
          "name": "stdout"
        }
      ]
    },
    {
      "cell_type": "code",
      "metadata": {
        "id": "ciHW7olQA8nn",
        "colab_type": "code",
        "colab": {}
      },
      "source": [
        "model.save(\"/content/drive/My Drive/Colab Notebooks/project/Model Results/MusicalNote_Model_CNN_wam08002.h5\")"
      ],
      "execution_count": null,
      "outputs": []
    },
    {
      "cell_type": "markdown",
      "metadata": {
        "id": "MUYVDl4ecsOI",
        "colab_type": "text"
      },
      "source": [
        "Conv NNet Preparation"
      ]
    },
    {
      "cell_type": "code",
      "metadata": {
        "id": "Mhu8ZzjFcs7H",
        "colab_type": "code",
        "colab": {
          "base_uri": "https://localhost:8080/",
          "height": 212
        },
        "outputId": "bf4a18f0-55c4-417a-e8b7-cabd594d53a9"
      },
      "source": [
        "#this next set of cells/steps are recreating the Training/Validation folders and throwing the new ordered sets in their respective folders on the cloud\n",
        "#The file order shuffling with stratification is extremely import, and I wasn't able to find a way to do it easily, so I had to come up with these steps\n",
        "#Csv files were created here for training/testing containing the order of the image files to be fed into the model, while stratifying over the y variable (notes to predict)\n",
        "Labels = data.iloc[:, -1]\n",
        "encoder = LabelEncoder()\n",
        "yi = encoder.fit_transform(Labels)\n",
        "\n",
        "Xi = data.iloc[:, 0:1]\n",
        "\n",
        "#Dividing data into training and Testing set\n",
        "X_traini, X_testi, y_traini, y_testi = train_test_split(Xi, yi, test_size=0.4,stratify=yi)\n",
        "\n",
        "#using stratification here to set up training/val image split,  manually created the directories for the split and uploaded it\n",
        "print(X_traini['filename'])\n",
        "\n",
        "str1=\".png\"\n",
        "str0 = X_traini.filename.str.rstrip('.wav')\n",
        "str2 = X_testi.filename.str.rstrip('.wav')\n",
        "reader = str0 + str1\n",
        "reader2 = str2 + str1\n",
        "reader.to_csv(r'/content/drive/My Drive/Colab Notebooks/project/X_traini.csv',index = None, header=True) #these CSV preserve the order of img files to be inserted to the model from above\n",
        "reader2.to_csv(r'/content/drive/My Drive/Colab Notebooks/project/X_testi.csv',index = None, header=True)"
      ],
      "execution_count": null,
      "outputs": [
        {
          "output_type": "stream",
          "text": [
            "261    copyD#3-1.wav\n",
            "219     copyB2-4.wav\n",
            "319    copyF#3-4.wav\n",
            "166        G#4-1.wav\n",
            "250     copyC4-0.wav\n",
            "           ...      \n",
            "170         G2-0.wav\n",
            "218     copyB2-3.wav\n",
            "32          B2-2.wav\n",
            "174         G2-4.wav\n",
            "323    copyF#4-3.wav\n",
            "Name: filename, Length: 222, dtype: object\n"
          ],
          "name": "stdout"
        }
      ]
    },
    {
      "cell_type": "markdown",
      "metadata": {
        "id": "AqpL-XjrsdwA",
        "colab_type": "text"
      },
      "source": [
        "below deletes/creates training/validation directories"
      ]
    },
    {
      "cell_type": "code",
      "metadata": {
        "id": "mVpco9CyW5QC",
        "colab_type": "code",
        "colab": {}
      },
      "source": [
        "import shutil  #these run, but they're not always consistent, be sure to check if code executes properly by checking the directories.\n",
        "shutil.rmtree('/content/drive/My Drive/Colab Notebooks/project/Train/')\n",
        "\n",
        "newpath = r'/content/drive/My Drive/Colab Notebooks/project/Train' \n",
        "if not os.path.exists(newpath):\n",
        "    os.makedirs(newpath)"
      ],
      "execution_count": null,
      "outputs": []
    },
    {
      "cell_type": "code",
      "metadata": {
        "id": "mNryFt0SXqtu",
        "colab_type": "code",
        "colab": {}
      },
      "source": [
        "shutil.rmtree('/content/drive/My Drive/Colab Notebooks/project/Validation/')\n",
        "\n",
        "newpath = r'/content/drive/My Drive/Colab Notebooks/project/Validation' \n",
        "if not os.path.exists(newpath):\n",
        "    os.makedirs(newpath)\n"
      ],
      "execution_count": null,
      "outputs": []
    },
    {
      "cell_type": "code",
      "metadata": {
        "id": "5QH0lK_TsvGh",
        "colab_type": "code",
        "colab": {}
      },
      "source": [
        "#this script is used to take the above created csv files (traini and testi), that were used as filename order reference, which then takes corresponding images \n",
        "#and separate/copy them to a train/validation selected folder in cloud\n",
        "#based on the train/validation split which was stratified by note class... ***so this particuarly block of code ensures training/validation folders have the right image files*** \n",
        "#X_traini filenames should match the files/filenames of images in the Training folder\n",
        "#This first part is for the training set\n",
        "from tkinter import * \n",
        "from tkinter import filedialog\n",
        "\n",
        "filePath = (r'/content/drive/My Drive/Colab Notebooks/project/X_traini.csv')\n",
        "folderPath = (r'/content/drive/My Drive/Colab Notebooks/project/img_data/')\n",
        "destination = (r'/content/drive/My Drive/Colab Notebooks/project/Train')\n",
        "\n",
        "# First, create a list and populate it with the files\n",
        "\n",
        "# you want to find (1 file per row in myfiles.txt/csv)\n",
        "\n",
        "filesToFind = []\n",
        "file = open(filePath, 'r')\n",
        "with file as fh:\n",
        "  for row in file:\n",
        "    filesToFind.append(row.strip())\n",
        "\n",
        "# Had an issue here but needed to define and then reference the filename variable itself \n",
        "for filename in os.listdir(folderPath):\n",
        "    if filename in filesToFind:\n",
        "        filename = filename = os.path.join(folderPath, filename)\n",
        "        shutil.copy(filename, destination)\n",
        "    else:\n",
        "        print(\"file does not exist: filename\")"
      ],
      "execution_count": null,
      "outputs": []
    },
    {
      "cell_type": "code",
      "metadata": {
        "id": "tZIJD-nnd9C2",
        "colab_type": "code",
        "colab": {}
      },
      "source": [
        "#This next part is for the validation set\n",
        "from tkinter import * \n",
        "from tkinter import filedialog\n",
        "\n",
        "filePath = (r'/content/drive/My Drive/Colab Notebooks/project/X_testi.csv')\n",
        "folderPath = (r'/content/drive/My Drive/Colab Notebooks/project/img_data/')\n",
        "destination = (r'/content/drive/My Drive/Colab Notebooks/project/Validation')\n",
        "\n",
        "filesToFind = []\n",
        "file = open(filePath, 'r')\n",
        "with file as fh:\n",
        "  for row in file:\n",
        "    filesToFind.append(row.strip())\n",
        "\n",
        "# Had an issue here but needed to define and then reference the filename variable itself \n",
        "for filename in os.listdir(folderPath):\n",
        "    if filename in filesToFind:\n",
        "        filename = filename = os.path.join(folderPath, filename)\n",
        "        shutil.copy(filename, destination)\n",
        "    else:\n",
        "        print(\"file does not exist: filename\")"
      ],
      "execution_count": null,
      "outputs": []
    },
    {
      "cell_type": "code",
      "metadata": {
        "colab_type": "code",
        "id": "772FOIbGDmQM",
        "colab": {}
      },
      "source": [
        "# define images data file path\n",
        "path = \"/content/drive/My Drive/Colab Notebooks/project/\"\n",
        "train_dir = path + \"Train/\"\n",
        "val_dir = path + \"Validation/\"\n",
        "result = path + \"Model Results/\""
      ],
      "execution_count": null,
      "outputs": []
    },
    {
      "cell_type": "code",
      "metadata": {
        "id": "-PasW4QaqtUW",
        "colab_type": "code",
        "colab": {}
      },
      "source": [
        "#del temp, repo, filesToFind, filesRef, cols, filename, image, x_train_images, x_train, x_val, x_val_images\n",
        "#Use the above to reset variables below if necessary"
      ],
      "execution_count": null,
      "outputs": []
    },
    {
      "cell_type": "code",
      "metadata": {
        "id": "jFovRbaqs-wH",
        "colab_type": "code",
        "colab": {}
      },
      "source": [
        "#Training data is loaded into x_train variable per order of the data set splitter, this is training\n",
        "filesToFind = []\n",
        "filesRef = []\n",
        "x_train_images = []\n",
        "\n",
        "for row in reader:\n",
        "    filesToFind.append(row.strip())\n",
        "\n",
        "#filesToFind = pd.DataFrame(filesToFind,columns=['filename'])\n",
        "#rftf = filesToFind.filename.str.rstrip('.wav')\n",
        "\n",
        "for filename in os.listdir(f'/content/drive/My Drive/Colab Notebooks/project/Train'):\n",
        "  temp = f'/content/drive/My Drive/Colab Notebooks/project/Train/{filename}'\n",
        "  repo = f'{filename}'\n",
        "  filesRef.append([repo])\n",
        "\n",
        "filesRef = pd.DataFrame(filesRef,columns=['filename'])\n",
        "rfr = filesRef.filename.str.rstrip('.wav')\n",
        "\n",
        "filesToFind = []\n",
        "\n",
        "for row in reader:\n",
        "    filesToFind.append(row.strip())\n",
        "\n",
        "filesRef = []\n",
        "\n",
        "for row in rfr:\n",
        "    filesRef.append(row.strip())\n",
        "\n",
        "for filename in filesToFind:\n",
        "  if filename in filesRef:\n",
        "    image = cv2.imread(train_dir+filename)\n",
        "    x_train_images.append(image)\n",
        "x_train = np.array(x_train_images)"
      ],
      "execution_count": null,
      "outputs": []
    },
    {
      "cell_type": "code",
      "metadata": {
        "id": "4Zbn88TV9pAt",
        "colab_type": "code",
        "colab": {}
      },
      "source": [
        "#val data per order of the splitter, this is validation\n",
        "filesToFind = []\n",
        "filesRef = []\n",
        "x_val_images = []\n",
        "\n",
        "for row in reader2:\n",
        "    filesToFind.append(row.strip())\n",
        "\n",
        "filesToFind = pd.DataFrame(filesToFind,columns=['filename'])\n",
        "rftf = filesToFind.filename.str.rstrip('.wav')\n",
        "\n",
        "for filename in os.listdir(f'/content/drive/My Drive/Colab Notebooks/project/Validation'):\n",
        "  temp = f'/content/drive/My Drive/Colab Notebooks/project/Validation/{filename}'\n",
        "  repo = f'{filename}'\n",
        "  filesRef.append([repo])\n",
        "\n",
        "filesRef = pd.DataFrame(filesRef,columns=['filename'])\n",
        "rfr = filesRef.filename.str.rstrip('.wav')\n",
        "\n",
        "filesToFind = []\n",
        "\n",
        "for row in reader2:\n",
        "    filesToFind.append(row.strip())\n",
        "\n",
        "filesRef = []\n",
        "\n",
        "for row in rfr:\n",
        "    filesRef.append(row.strip())\n",
        "\n",
        "for filename in filesToFind:\n",
        "  if filename in filesRef:\n",
        "    image = cv2.imread(val_dir+filename)\n",
        "    x_val_images.append(image)\n",
        "x_val = np.array(x_val_images)"
      ],
      "execution_count": null,
      "outputs": []
    },
    {
      "cell_type": "code",
      "metadata": {
        "colab_type": "code",
        "id": "UukDSlj5C6kb",
        "colab": {}
      },
      "source": [
        "# save loaded and converted image data \n",
        "savez_compressed(path+'train_data.npz', x_train)\n",
        "savez_compressed(path+'val_data.npz', x_val)\n"
      ],
      "execution_count": null,
      "outputs": []
    },
    {
      "cell_type": "code",
      "metadata": {
        "id": "C2Qm8kJgg88T",
        "colab_type": "code",
        "colab": {}
      },
      "source": [
        "# load image numpy array from npz file if need be, shouldn't be necessary unless you just want to skip to this step and load what's already saved, I would skip to here if you didn't want to mess with integrity of CNN\\\n",
        "#final model that's already in drive.\n",
        "from numpy import load\n",
        "# load dict of arrays\n",
        "train_data = load(path+'train_data.npz')\n",
        "x_train = train_data['arr_0']\n",
        "val_data = load(path+'val_data.npz')\n",
        "x_val = val_data['arr_0']\n",
        "\n"
      ],
      "execution_count": null,
      "outputs": []
    },
    {
      "cell_type": "markdown",
      "metadata": {
        "id": "JluZmUI8zsyf",
        "colab_type": "text"
      },
      "source": [
        "The entire purpose of the above, is to utilize stratification of multiclass outcomes that we're trying to predict.  random/uniform shuffling does not ensure robust proportional dispersion of training/validation set"
      ]
    },
    {
      "cell_type": "markdown",
      "metadata": {
        "id": "i3TNzY_lHBA_",
        "colab_type": "text"
      },
      "source": [
        "Conv Model"
      ]
    },
    {
      "cell_type": "code",
      "metadata": {
        "id": "MYZg-3d-HDjr",
        "colab_type": "code",
        "colab": {
          "base_uri": "https://localhost:8080/",
          "height": 50
        },
        "outputId": "bebbcf75-79c7-4d9f-8711-f2fc207ad2e8"
      },
      "source": [
        "print(\"Image train dataset shape: \", x_train.shape)\n",
        "print(\"Image validation dataset shape: \", x_val.shape)\n",
        "\n",
        "#print(y_testi.shape)\n",
        "#print(y_traini.shape)\n",
        "#checking shape\n"
      ],
      "execution_count": null,
      "outputs": [
        {
          "output_type": "stream",
          "text": [
            "Image train dataset shape:  (222, 576, 576, 3)\n",
            "Image validation dataset shape:  (148, 576, 576, 3)\n"
          ],
          "name": "stdout"
        }
      ]
    },
    {
      "cell_type": "code",
      "metadata": {
        "id": "Z_JvVJ6JP2Pi",
        "colab_type": "code",
        "colab": {
          "base_uri": "https://localhost:8080/",
          "height": 33
        },
        "outputId": "8babf547-6b0f-4b56-9372-b638da6e5d09"
      },
      "source": [
        "Input_shape = x_train.shape\n",
        "Input_shape = Input_shape[1:4]\n",
        "Input_shape"
      ],
      "execution_count": null,
      "outputs": [
        {
          "output_type": "execute_result",
          "data": {
            "text/plain": [
              "(576, 576, 3)"
            ]
          },
          "metadata": {
            "tags": []
          },
          "execution_count": 54
        }
      ]
    },
    {
      "cell_type": "code",
      "metadata": {
        "id": "4sJwySSNXWa4",
        "colab_type": "code",
        "colab": {
          "base_uri": "https://localhost:8080/",
          "height": 407
        },
        "outputId": "f27c27d2-c68b-44d2-ba81-e7b7caf76a41"
      },
      "source": [
        "#CNN with two Conv2D and 2Max2D layers, and a 3 layer DNN,  NO DROPOUT, and RELU only in first Conv2D\n",
        "model2 = tf.keras.Sequential()\n",
        "\n",
        "# Must define the input shape in the first layer of the neural network\n",
        "model2.add(tf.keras.layers.Conv2D(filters=128, kernel_size=3, padding='same', activation='relu', input_shape=Input_shape)) \n",
        "model2.add(tf.keras.layers.MaxPooling2D(pool_size=2))\n",
        "model2.add(tf.keras.layers.Conv2D(filters=64, kernel_size=3, padding='same'))\n",
        "model2.add(tf.keras.layers.MaxPooling2D(pool_size=2))\n",
        "model2.add(tf.keras.layers.Flatten())\n",
        "model2.add(tf.keras.layers.Dense(64))\n",
        "model2.add(tf.keras.layers.Dense(32))\n",
        "model2.add(tf.keras.layers.Dense(12, activation='softmax'))\n",
        "tf.keras.optimizers.Adam(lr=0.001, beta_1=0.9, beta_2=0.999, amsgrad=False)\n",
        "model2.compile(optimizer='adam',loss='sparse_categorical_crossentropy',metrics=['sparse_categorical_accuracy'])\n",
        "model2.summary()\n"
      ],
      "execution_count": null,
      "outputs": [
        {
          "output_type": "stream",
          "text": [
            "Model: \"sequential_1\"\n",
            "_________________________________________________________________\n",
            "Layer (type)                 Output Shape              Param #   \n",
            "=================================================================\n",
            "conv2d (Conv2D)              (None, 576, 576, 128)     3584      \n",
            "_________________________________________________________________\n",
            "max_pooling2d (MaxPooling2D) (None, 288, 288, 128)     0         \n",
            "_________________________________________________________________\n",
            "conv2d_1 (Conv2D)            (None, 288, 288, 64)      73792     \n",
            "_________________________________________________________________\n",
            "max_pooling2d_1 (MaxPooling2 (None, 144, 144, 64)      0         \n",
            "_________________________________________________________________\n",
            "flatten (Flatten)            (None, 1327104)           0         \n",
            "_________________________________________________________________\n",
            "dense (Dense)                (None, 64)                84934720  \n",
            "_________________________________________________________________\n",
            "dense_1 (Dense)              (None, 32)                2080      \n",
            "_________________________________________________________________\n",
            "dense_2 (Dense)              (None, 12)                396       \n",
            "=================================================================\n",
            "Total params: 85,014,572\n",
            "Trainable params: 85,014,572\n",
            "Non-trainable params: 0\n",
            "_________________________________________________________________\n"
          ],
          "name": "stdout"
        }
      ]
    },
    {
      "cell_type": "markdown",
      "metadata": {
        "id": "-fAjd9v5LtHZ",
        "colab_type": "text"
      },
      "source": [
        ""
      ]
    },
    {
      "cell_type": "code",
      "metadata": {
        "colab_type": "code",
        "id": "JpLolxVUHxbL",
        "colab": {}
      },
      "source": [
        "es = EarlyStopping(monitor='val_sparse_categorical_accuracy', mode='max', \n",
        "                   patience=30, \n",
        "                   verbose=1)"
      ],
      "execution_count": null,
      "outputs": []
    },
    {
      "cell_type": "code",
      "metadata": {
        "id": "jUFgeA0H-Bk3",
        "colab_type": "code",
        "colab": {
          "base_uri": "https://localhost:8080/",
          "height": 1000
        },
        "outputId": "9d39af0d-3fd9-4b9b-d6a3-0d733c31f36d"
      },
      "source": [
        "# train the model\n",
        "print(\"[INFO] training model...\")\n",
        "history = model2.fit(x_train, y_traini, validation_data=(x_val, y_testi), epochs=100, batch_size=2,verbose=1,callbacks=[es])"
      ],
      "execution_count": null,
      "outputs": [
        {
          "output_type": "stream",
          "text": [
            "[INFO] training model...\n",
            "Epoch 1/100\n",
            "111/111 [==============================] - 14s 129ms/step - loss: 19811.7168 - sparse_categorical_accuracy: 0.1351 - val_loss: 745.7030 - val_sparse_categorical_accuracy: 0.2973\n",
            "Epoch 2/100\n",
            "111/111 [==============================] - 14s 127ms/step - loss: 183.4354 - sparse_categorical_accuracy: 0.5991 - val_loss: 20.6509 - val_sparse_categorical_accuracy: 0.8243\n",
            "Epoch 3/100\n",
            "111/111 [==============================] - 14s 127ms/step - loss: 27.8458 - sparse_categorical_accuracy: 0.8604 - val_loss: 2.3688 - val_sparse_categorical_accuracy: 0.9392\n",
            "Epoch 4/100\n",
            "111/111 [==============================] - 14s 127ms/step - loss: 9.0886 - sparse_categorical_accuracy: 0.9414 - val_loss: 10.7546 - val_sparse_categorical_accuracy: 0.8851\n",
            "Epoch 5/100\n",
            "111/111 [==============================] - 14s 127ms/step - loss: 5.0573 - sparse_categorical_accuracy: 0.9505 - val_loss: 5.5537 - val_sparse_categorical_accuracy: 0.9189\n",
            "Epoch 6/100\n",
            "111/111 [==============================] - 14s 127ms/step - loss: 2.1902 - sparse_categorical_accuracy: 0.9640 - val_loss: 0.9728 - val_sparse_categorical_accuracy: 0.9662\n",
            "Epoch 7/100\n",
            "111/111 [==============================] - 14s 127ms/step - loss: 0.7677 - sparse_categorical_accuracy: 0.9910 - val_loss: 0.2644 - val_sparse_categorical_accuracy: 0.9865\n",
            "Epoch 8/100\n",
            "111/111 [==============================] - 14s 127ms/step - loss: 0.0000e+00 - sparse_categorical_accuracy: 1.0000 - val_loss: 0.2718 - val_sparse_categorical_accuracy: 0.9865\n",
            "Epoch 9/100\n",
            "111/111 [==============================] - 14s 127ms/step - loss: 0.0000e+00 - sparse_categorical_accuracy: 1.0000 - val_loss: 0.2718 - val_sparse_categorical_accuracy: 0.9865\n",
            "Epoch 10/100\n",
            "111/111 [==============================] - 14s 127ms/step - loss: 0.0000e+00 - sparse_categorical_accuracy: 1.0000 - val_loss: 0.2718 - val_sparse_categorical_accuracy: 0.9865\n",
            "Epoch 11/100\n",
            "111/111 [==============================] - 14s 127ms/step - loss: 0.0000e+00 - sparse_categorical_accuracy: 1.0000 - val_loss: 0.2718 - val_sparse_categorical_accuracy: 0.9865\n",
            "Epoch 12/100\n",
            "111/111 [==============================] - 14s 127ms/step - loss: 0.0000e+00 - sparse_categorical_accuracy: 1.0000 - val_loss: 0.2718 - val_sparse_categorical_accuracy: 0.9865\n",
            "Epoch 13/100\n",
            "111/111 [==============================] - 14s 127ms/step - loss: 0.0000e+00 - sparse_categorical_accuracy: 1.0000 - val_loss: 0.2718 - val_sparse_categorical_accuracy: 0.9865\n",
            "Epoch 14/100\n",
            "111/111 [==============================] - 14s 127ms/step - loss: 0.0000e+00 - sparse_categorical_accuracy: 1.0000 - val_loss: 0.2718 - val_sparse_categorical_accuracy: 0.9865\n",
            "Epoch 15/100\n",
            "111/111 [==============================] - 14s 127ms/step - loss: 0.0000e+00 - sparse_categorical_accuracy: 1.0000 - val_loss: 0.2718 - val_sparse_categorical_accuracy: 0.9865\n",
            "Epoch 16/100\n",
            "111/111 [==============================] - 14s 127ms/step - loss: 0.0000e+00 - sparse_categorical_accuracy: 1.0000 - val_loss: 0.2718 - val_sparse_categorical_accuracy: 0.9865\n",
            "Epoch 17/100\n",
            "111/111 [==============================] - 14s 127ms/step - loss: 0.0000e+00 - sparse_categorical_accuracy: 1.0000 - val_loss: 0.2718 - val_sparse_categorical_accuracy: 0.9865\n",
            "Epoch 18/100\n",
            "111/111 [==============================] - 14s 127ms/step - loss: 0.0000e+00 - sparse_categorical_accuracy: 1.0000 - val_loss: 0.2718 - val_sparse_categorical_accuracy: 0.9865\n",
            "Epoch 19/100\n",
            "111/111 [==============================] - 14s 127ms/step - loss: 0.0000e+00 - sparse_categorical_accuracy: 1.0000 - val_loss: 0.2718 - val_sparse_categorical_accuracy: 0.9865\n",
            "Epoch 20/100\n",
            "111/111 [==============================] - 14s 127ms/step - loss: 0.0000e+00 - sparse_categorical_accuracy: 1.0000 - val_loss: 0.2718 - val_sparse_categorical_accuracy: 0.9865\n",
            "Epoch 21/100\n",
            "111/111 [==============================] - 14s 127ms/step - loss: 0.0000e+00 - sparse_categorical_accuracy: 1.0000 - val_loss: 0.2718 - val_sparse_categorical_accuracy: 0.9865\n",
            "Epoch 22/100\n",
            "111/111 [==============================] - 14s 127ms/step - loss: 0.0000e+00 - sparse_categorical_accuracy: 1.0000 - val_loss: 0.2718 - val_sparse_categorical_accuracy: 0.9865\n",
            "Epoch 23/100\n",
            "111/111 [==============================] - 14s 127ms/step - loss: 0.0000e+00 - sparse_categorical_accuracy: 1.0000 - val_loss: 0.2718 - val_sparse_categorical_accuracy: 0.9865\n",
            "Epoch 24/100\n",
            "111/111 [==============================] - 14s 127ms/step - loss: 0.0000e+00 - sparse_categorical_accuracy: 1.0000 - val_loss: 0.2718 - val_sparse_categorical_accuracy: 0.9865\n",
            "Epoch 25/100\n",
            "111/111 [==============================] - 14s 127ms/step - loss: 0.0000e+00 - sparse_categorical_accuracy: 1.0000 - val_loss: 0.2718 - val_sparse_categorical_accuracy: 0.9865\n",
            "Epoch 26/100\n",
            "111/111 [==============================] - 14s 127ms/step - loss: 0.0000e+00 - sparse_categorical_accuracy: 1.0000 - val_loss: 0.2718 - val_sparse_categorical_accuracy: 0.9865\n",
            "Epoch 27/100\n",
            "111/111 [==============================] - 14s 127ms/step - loss: 0.0000e+00 - sparse_categorical_accuracy: 1.0000 - val_loss: 0.2718 - val_sparse_categorical_accuracy: 0.9865\n",
            "Epoch 28/100\n",
            "111/111 [==============================] - 14s 127ms/step - loss: 0.0000e+00 - sparse_categorical_accuracy: 1.0000 - val_loss: 0.2718 - val_sparse_categorical_accuracy: 0.9865\n",
            "Epoch 29/100\n",
            "111/111 [==============================] - 14s 127ms/step - loss: 0.0000e+00 - sparse_categorical_accuracy: 1.0000 - val_loss: 0.2718 - val_sparse_categorical_accuracy: 0.9865\n",
            "Epoch 30/100\n",
            "111/111 [==============================] - 14s 127ms/step - loss: 0.0000e+00 - sparse_categorical_accuracy: 1.0000 - val_loss: 0.2718 - val_sparse_categorical_accuracy: 0.9865\n",
            "Epoch 31/100\n",
            "111/111 [==============================] - 14s 127ms/step - loss: 0.0000e+00 - sparse_categorical_accuracy: 1.0000 - val_loss: 0.2718 - val_sparse_categorical_accuracy: 0.9865\n",
            "Epoch 32/100\n",
            "111/111 [==============================] - 14s 127ms/step - loss: 0.0000e+00 - sparse_categorical_accuracy: 1.0000 - val_loss: 0.2718 - val_sparse_categorical_accuracy: 0.9865\n",
            "Epoch 33/100\n",
            "111/111 [==============================] - 14s 127ms/step - loss: 0.0000e+00 - sparse_categorical_accuracy: 1.0000 - val_loss: 0.2718 - val_sparse_categorical_accuracy: 0.9865\n",
            "Epoch 34/100\n",
            "111/111 [==============================] - 14s 127ms/step - loss: 0.0000e+00 - sparse_categorical_accuracy: 1.0000 - val_loss: 0.2718 - val_sparse_categorical_accuracy: 0.9865\n",
            "Epoch 35/100\n",
            "111/111 [==============================] - 14s 127ms/step - loss: 0.0000e+00 - sparse_categorical_accuracy: 1.0000 - val_loss: 0.2718 - val_sparse_categorical_accuracy: 0.9865\n",
            "Epoch 36/100\n",
            "111/111 [==============================] - 14s 127ms/step - loss: 0.0000e+00 - sparse_categorical_accuracy: 1.0000 - val_loss: 0.2718 - val_sparse_categorical_accuracy: 0.9865\n",
            "Epoch 37/100\n",
            "111/111 [==============================] - 14s 127ms/step - loss: 0.0000e+00 - sparse_categorical_accuracy: 1.0000 - val_loss: 0.2718 - val_sparse_categorical_accuracy: 0.9865\n",
            "Epoch 00037: early stopping\n"
          ],
          "name": "stdout"
        }
      ]
    },
    {
      "cell_type": "code",
      "metadata": {
        "id": "MXi1uJTWT1Ae",
        "colab_type": "code",
        "colab": {}
      },
      "source": [
        "model2.save(\"/content/drive/My Drive/Colab Notebooks/project/Model Results/MusicalNote_Model_CNN_wam08002.h5\")"
      ],
      "execution_count": null,
      "outputs": []
    },
    {
      "cell_type": "code",
      "metadata": {
        "id": "v8AA6A8PleEh",
        "colab_type": "code",
        "colab": {}
      },
      "source": [
        "# custom batched prediction loop to avoid memory leak issues for now in the model2.predict call -----TRAINING\n",
        "# There is an issue with current version of Tensorflow (2.1?),  I couldn't run  model.predict_classes, there was OOM (out of memory) errors so this is a workaround to get model predictions\n",
        "y_pred_probs = np.empty([len(x_train), 12], dtype=np.float32)  # pre-allocate required memory for array for efficiency\n",
        "BATCH_SIZE = 2\n",
        "BATCH_INDICES = np.arange(start=0, stop=len(x_train), step=BATCH_SIZE)  # row indices of batches\n",
        "BATCH_INDICES = np.append(BATCH_INDICES, len(x_train))  # add final batch_end row\n",
        "\n",
        "for index in np.arange(len(BATCH_INDICES) - 1):\n",
        "    batch_start = BATCH_INDICES[index]  # first row of the batch\n",
        "    batch_end = BATCH_INDICES[index + 1]  # last row of the batch\n",
        "    y_pred_probs[batch_start:batch_end] = model2.predict_on_batch(x_train[batch_start:batch_end])"
      ],
      "execution_count": null,
      "outputs": []
    },
    {
      "cell_type": "code",
      "metadata": {
        "colab_type": "code",
        "id": "JxtlcuTiurBa",
        "colab": {}
      },
      "source": [
        "# custom batched prediction loop to avoid memory leak issues for now in the model2.predict call -----Validation\n",
        "y_pred_probs2 = np.empty([len(x_val), 12], dtype=np.float32)  # pre-allocate required memory for array for efficiency\n",
        "BATCH_SIZE = 2\n",
        "BATCH_INDICES = np.arange(start=0, stop=len(x_val), step=BATCH_SIZE)  # row indices of batches\n",
        "BATCH_INDICES = np.append(BATCH_INDICES, len(x_val))  # add final batch_end row\n",
        "\n",
        "for index in np.arange(len(BATCH_INDICES) - 1):\n",
        "    batch_start = BATCH_INDICES[index]  # first row of the batch\n",
        "    batch_end = BATCH_INDICES[index + 1]  # last row of the batch\n",
        "    y_pred_probs2[batch_start:batch_end] = model2.predict_on_batch(x_val[batch_start:batch_end])"
      ],
      "execution_count": null,
      "outputs": []
    },
    {
      "cell_type": "code",
      "metadata": {
        "id": "y_cAg30qmXPV",
        "colab_type": "code",
        "colab": {
          "base_uri": "https://localhost:8080/",
          "height": 391
        },
        "outputId": "531241dc-0e59-4795-f871-23545cfe204c"
      },
      "source": [
        "y_pred_probs1 = pd.DataFrame(y_pred_probs) #training\n",
        "y_pred_probs1['max']=y_pred_probs1.idxmax(axis=1) #max here is referring to the highest probability output by model, and therfore the predicted class (note)\n",
        "y_pred_probs1.to_csv(r'/content/drive/My Drive/Colab Notebooks/project/Model Results/Model2Results.csv',index = None, header=True)\n",
        "y_pred_probs1"
      ],
      "execution_count": null,
      "outputs": [
        {
          "output_type": "execute_result",
          "data": {
            "text/html": [
              "<div>\n",
              "<style scoped>\n",
              "    .dataframe tbody tr th:only-of-type {\n",
              "        vertical-align: middle;\n",
              "    }\n",
              "\n",
              "    .dataframe tbody tr th {\n",
              "        vertical-align: top;\n",
              "    }\n",
              "\n",
              "    .dataframe thead th {\n",
              "        text-align: right;\n",
              "    }\n",
              "</style>\n",
              "<table border=\"1\" class=\"dataframe\">\n",
              "  <thead>\n",
              "    <tr style=\"text-align: right;\">\n",
              "      <th></th>\n",
              "      <th>0</th>\n",
              "      <th>1</th>\n",
              "      <th>2</th>\n",
              "      <th>3</th>\n",
              "      <th>4</th>\n",
              "      <th>5</th>\n",
              "      <th>6</th>\n",
              "      <th>7</th>\n",
              "      <th>8</th>\n",
              "      <th>9</th>\n",
              "      <th>10</th>\n",
              "      <th>11</th>\n",
              "      <th>max</th>\n",
              "    </tr>\n",
              "  </thead>\n",
              "  <tbody>\n",
              "    <tr>\n",
              "      <th>0</th>\n",
              "      <td>0.0</td>\n",
              "      <td>0.0</td>\n",
              "      <td>0.0</td>\n",
              "      <td>0.0</td>\n",
              "      <td>0.0</td>\n",
              "      <td>1.0</td>\n",
              "      <td>0.0</td>\n",
              "      <td>0.0</td>\n",
              "      <td>0.0</td>\n",
              "      <td>0.0</td>\n",
              "      <td>0.0</td>\n",
              "      <td>0.0</td>\n",
              "      <td>5</td>\n",
              "    </tr>\n",
              "    <tr>\n",
              "      <th>1</th>\n",
              "      <td>0.0</td>\n",
              "      <td>0.0</td>\n",
              "      <td>1.0</td>\n",
              "      <td>0.0</td>\n",
              "      <td>0.0</td>\n",
              "      <td>0.0</td>\n",
              "      <td>0.0</td>\n",
              "      <td>0.0</td>\n",
              "      <td>0.0</td>\n",
              "      <td>0.0</td>\n",
              "      <td>0.0</td>\n",
              "      <td>0.0</td>\n",
              "      <td>2</td>\n",
              "    </tr>\n",
              "    <tr>\n",
              "      <th>2</th>\n",
              "      <td>0.0</td>\n",
              "      <td>0.0</td>\n",
              "      <td>0.0</td>\n",
              "      <td>0.0</td>\n",
              "      <td>0.0</td>\n",
              "      <td>0.0</td>\n",
              "      <td>0.0</td>\n",
              "      <td>0.0</td>\n",
              "      <td>1.0</td>\n",
              "      <td>0.0</td>\n",
              "      <td>0.0</td>\n",
              "      <td>0.0</td>\n",
              "      <td>8</td>\n",
              "    </tr>\n",
              "    <tr>\n",
              "      <th>3</th>\n",
              "      <td>0.0</td>\n",
              "      <td>0.0</td>\n",
              "      <td>0.0</td>\n",
              "      <td>0.0</td>\n",
              "      <td>0.0</td>\n",
              "      <td>0.0</td>\n",
              "      <td>0.0</td>\n",
              "      <td>0.0</td>\n",
              "      <td>0.0</td>\n",
              "      <td>0.0</td>\n",
              "      <td>1.0</td>\n",
              "      <td>0.0</td>\n",
              "      <td>10</td>\n",
              "    </tr>\n",
              "    <tr>\n",
              "      <th>4</th>\n",
              "      <td>0.0</td>\n",
              "      <td>0.0</td>\n",
              "      <td>0.0</td>\n",
              "      <td>0.0</td>\n",
              "      <td>1.0</td>\n",
              "      <td>0.0</td>\n",
              "      <td>0.0</td>\n",
              "      <td>0.0</td>\n",
              "      <td>0.0</td>\n",
              "      <td>0.0</td>\n",
              "      <td>0.0</td>\n",
              "      <td>0.0</td>\n",
              "      <td>4</td>\n",
              "    </tr>\n",
              "    <tr>\n",
              "      <th>...</th>\n",
              "      <td>...</td>\n",
              "      <td>...</td>\n",
              "      <td>...</td>\n",
              "      <td>...</td>\n",
              "      <td>...</td>\n",
              "      <td>...</td>\n",
              "      <td>...</td>\n",
              "      <td>...</td>\n",
              "      <td>...</td>\n",
              "      <td>...</td>\n",
              "      <td>...</td>\n",
              "      <td>...</td>\n",
              "      <td>...</td>\n",
              "    </tr>\n",
              "    <tr>\n",
              "      <th>217</th>\n",
              "      <td>0.0</td>\n",
              "      <td>0.0</td>\n",
              "      <td>0.0</td>\n",
              "      <td>0.0</td>\n",
              "      <td>0.0</td>\n",
              "      <td>0.0</td>\n",
              "      <td>0.0</td>\n",
              "      <td>0.0</td>\n",
              "      <td>0.0</td>\n",
              "      <td>0.0</td>\n",
              "      <td>0.0</td>\n",
              "      <td>1.0</td>\n",
              "      <td>11</td>\n",
              "    </tr>\n",
              "    <tr>\n",
              "      <th>218</th>\n",
              "      <td>0.0</td>\n",
              "      <td>0.0</td>\n",
              "      <td>1.0</td>\n",
              "      <td>0.0</td>\n",
              "      <td>0.0</td>\n",
              "      <td>0.0</td>\n",
              "      <td>0.0</td>\n",
              "      <td>0.0</td>\n",
              "      <td>0.0</td>\n",
              "      <td>0.0</td>\n",
              "      <td>0.0</td>\n",
              "      <td>0.0</td>\n",
              "      <td>2</td>\n",
              "    </tr>\n",
              "    <tr>\n",
              "      <th>219</th>\n",
              "      <td>0.0</td>\n",
              "      <td>0.0</td>\n",
              "      <td>1.0</td>\n",
              "      <td>0.0</td>\n",
              "      <td>0.0</td>\n",
              "      <td>0.0</td>\n",
              "      <td>0.0</td>\n",
              "      <td>0.0</td>\n",
              "      <td>0.0</td>\n",
              "      <td>0.0</td>\n",
              "      <td>0.0</td>\n",
              "      <td>0.0</td>\n",
              "      <td>2</td>\n",
              "    </tr>\n",
              "    <tr>\n",
              "      <th>220</th>\n",
              "      <td>0.0</td>\n",
              "      <td>0.0</td>\n",
              "      <td>0.0</td>\n",
              "      <td>0.0</td>\n",
              "      <td>0.0</td>\n",
              "      <td>0.0</td>\n",
              "      <td>0.0</td>\n",
              "      <td>0.0</td>\n",
              "      <td>0.0</td>\n",
              "      <td>0.0</td>\n",
              "      <td>0.0</td>\n",
              "      <td>1.0</td>\n",
              "      <td>11</td>\n",
              "    </tr>\n",
              "    <tr>\n",
              "      <th>221</th>\n",
              "      <td>0.0</td>\n",
              "      <td>0.0</td>\n",
              "      <td>0.0</td>\n",
              "      <td>0.0</td>\n",
              "      <td>0.0</td>\n",
              "      <td>0.0</td>\n",
              "      <td>0.0</td>\n",
              "      <td>0.0</td>\n",
              "      <td>1.0</td>\n",
              "      <td>0.0</td>\n",
              "      <td>0.0</td>\n",
              "      <td>0.0</td>\n",
              "      <td>8</td>\n",
              "    </tr>\n",
              "  </tbody>\n",
              "</table>\n",
              "<p>222 rows × 13 columns</p>\n",
              "</div>"
            ],
            "text/plain": [
              "       0    1    2    3    4    5    6    7    8    9   10   11  max\n",
              "0    0.0  0.0  0.0  0.0  0.0  1.0  0.0  0.0  0.0  0.0  0.0  0.0    5\n",
              "1    0.0  0.0  1.0  0.0  0.0  0.0  0.0  0.0  0.0  0.0  0.0  0.0    2\n",
              "2    0.0  0.0  0.0  0.0  0.0  0.0  0.0  0.0  1.0  0.0  0.0  0.0    8\n",
              "3    0.0  0.0  0.0  0.0  0.0  0.0  0.0  0.0  0.0  0.0  1.0  0.0   10\n",
              "4    0.0  0.0  0.0  0.0  1.0  0.0  0.0  0.0  0.0  0.0  0.0  0.0    4\n",
              "..   ...  ...  ...  ...  ...  ...  ...  ...  ...  ...  ...  ...  ...\n",
              "217  0.0  0.0  0.0  0.0  0.0  0.0  0.0  0.0  0.0  0.0  0.0  1.0   11\n",
              "218  0.0  0.0  1.0  0.0  0.0  0.0  0.0  0.0  0.0  0.0  0.0  0.0    2\n",
              "219  0.0  0.0  1.0  0.0  0.0  0.0  0.0  0.0  0.0  0.0  0.0  0.0    2\n",
              "220  0.0  0.0  0.0  0.0  0.0  0.0  0.0  0.0  0.0  0.0  0.0  1.0   11\n",
              "221  0.0  0.0  0.0  0.0  0.0  0.0  0.0  0.0  1.0  0.0  0.0  0.0    8\n",
              "\n",
              "[222 rows x 13 columns]"
            ]
          },
          "metadata": {
            "tags": []
          },
          "execution_count": 59
        }
      ]
    },
    {
      "cell_type": "code",
      "metadata": {
        "colab_type": "code",
        "id": "9ohbraaPu3ky",
        "colab": {
          "base_uri": "https://localhost:8080/",
          "height": 391
        },
        "outputId": "923818f2-1489-472d-cd43-b4c37e72a142"
      },
      "source": [
        "y_pred_probs3 = pd.DataFrame(y_pred_probs2) #Validation\n",
        "y_pred_probs3['max']=y_pred_probs3.idxmax(axis=1)\n",
        "y_pred_probs3.to_csv(r'/content/drive/My Drive/Colab Notebooks/project/Model Results/Model2ResultsVal.csv',index = None, header=True)\n",
        "y_pred_probs3"
      ],
      "execution_count": null,
      "outputs": [
        {
          "output_type": "execute_result",
          "data": {
            "text/html": [
              "<div>\n",
              "<style scoped>\n",
              "    .dataframe tbody tr th:only-of-type {\n",
              "        vertical-align: middle;\n",
              "    }\n",
              "\n",
              "    .dataframe tbody tr th {\n",
              "        vertical-align: top;\n",
              "    }\n",
              "\n",
              "    .dataframe thead th {\n",
              "        text-align: right;\n",
              "    }\n",
              "</style>\n",
              "<table border=\"1\" class=\"dataframe\">\n",
              "  <thead>\n",
              "    <tr style=\"text-align: right;\">\n",
              "      <th></th>\n",
              "      <th>0</th>\n",
              "      <th>1</th>\n",
              "      <th>2</th>\n",
              "      <th>3</th>\n",
              "      <th>4</th>\n",
              "      <th>5</th>\n",
              "      <th>6</th>\n",
              "      <th>7</th>\n",
              "      <th>8</th>\n",
              "      <th>9</th>\n",
              "      <th>10</th>\n",
              "      <th>11</th>\n",
              "      <th>max</th>\n",
              "    </tr>\n",
              "  </thead>\n",
              "  <tbody>\n",
              "    <tr>\n",
              "      <th>0</th>\n",
              "      <td>0.0</td>\n",
              "      <td>0.0</td>\n",
              "      <td>0.0</td>\n",
              "      <td>1.594841e-30</td>\n",
              "      <td>1.0</td>\n",
              "      <td>0.000000</td>\n",
              "      <td>0.0</td>\n",
              "      <td>0.0</td>\n",
              "      <td>0.0</td>\n",
              "      <td>0.000000</td>\n",
              "      <td>0.0</td>\n",
              "      <td>0.0</td>\n",
              "      <td>4</td>\n",
              "    </tr>\n",
              "    <tr>\n",
              "      <th>1</th>\n",
              "      <td>0.0</td>\n",
              "      <td>0.0</td>\n",
              "      <td>0.0</td>\n",
              "      <td>0.000000e+00</td>\n",
              "      <td>1.0</td>\n",
              "      <td>0.000000</td>\n",
              "      <td>0.0</td>\n",
              "      <td>0.0</td>\n",
              "      <td>0.0</td>\n",
              "      <td>0.000000</td>\n",
              "      <td>0.0</td>\n",
              "      <td>0.0</td>\n",
              "      <td>4</td>\n",
              "    </tr>\n",
              "    <tr>\n",
              "      <th>2</th>\n",
              "      <td>0.0</td>\n",
              "      <td>0.0</td>\n",
              "      <td>0.0</td>\n",
              "      <td>0.000000e+00</td>\n",
              "      <td>0.0</td>\n",
              "      <td>0.000000</td>\n",
              "      <td>0.0</td>\n",
              "      <td>0.0</td>\n",
              "      <td>0.0</td>\n",
              "      <td>1.000000</td>\n",
              "      <td>0.0</td>\n",
              "      <td>0.0</td>\n",
              "      <td>9</td>\n",
              "    </tr>\n",
              "    <tr>\n",
              "      <th>3</th>\n",
              "      <td>0.0</td>\n",
              "      <td>0.0</td>\n",
              "      <td>0.0</td>\n",
              "      <td>0.000000e+00</td>\n",
              "      <td>0.0</td>\n",
              "      <td>0.968587</td>\n",
              "      <td>0.0</td>\n",
              "      <td>0.0</td>\n",
              "      <td>0.0</td>\n",
              "      <td>0.031413</td>\n",
              "      <td>0.0</td>\n",
              "      <td>0.0</td>\n",
              "      <td>5</td>\n",
              "    </tr>\n",
              "    <tr>\n",
              "      <th>4</th>\n",
              "      <td>0.0</td>\n",
              "      <td>0.0</td>\n",
              "      <td>0.0</td>\n",
              "      <td>0.000000e+00</td>\n",
              "      <td>0.0</td>\n",
              "      <td>0.000000</td>\n",
              "      <td>0.0</td>\n",
              "      <td>0.0</td>\n",
              "      <td>0.0</td>\n",
              "      <td>1.000000</td>\n",
              "      <td>0.0</td>\n",
              "      <td>0.0</td>\n",
              "      <td>9</td>\n",
              "    </tr>\n",
              "    <tr>\n",
              "      <th>...</th>\n",
              "      <td>...</td>\n",
              "      <td>...</td>\n",
              "      <td>...</td>\n",
              "      <td>...</td>\n",
              "      <td>...</td>\n",
              "      <td>...</td>\n",
              "      <td>...</td>\n",
              "      <td>...</td>\n",
              "      <td>...</td>\n",
              "      <td>...</td>\n",
              "      <td>...</td>\n",
              "      <td>...</td>\n",
              "      <td>...</td>\n",
              "    </tr>\n",
              "    <tr>\n",
              "      <th>143</th>\n",
              "      <td>1.0</td>\n",
              "      <td>0.0</td>\n",
              "      <td>0.0</td>\n",
              "      <td>0.000000e+00</td>\n",
              "      <td>0.0</td>\n",
              "      <td>0.000000</td>\n",
              "      <td>0.0</td>\n",
              "      <td>0.0</td>\n",
              "      <td>0.0</td>\n",
              "      <td>0.000000</td>\n",
              "      <td>0.0</td>\n",
              "      <td>0.0</td>\n",
              "      <td>0</td>\n",
              "    </tr>\n",
              "    <tr>\n",
              "      <th>144</th>\n",
              "      <td>0.0</td>\n",
              "      <td>0.0</td>\n",
              "      <td>0.0</td>\n",
              "      <td>0.000000e+00</td>\n",
              "      <td>0.0</td>\n",
              "      <td>0.000000</td>\n",
              "      <td>0.0</td>\n",
              "      <td>0.0</td>\n",
              "      <td>1.0</td>\n",
              "      <td>0.000000</td>\n",
              "      <td>0.0</td>\n",
              "      <td>0.0</td>\n",
              "      <td>8</td>\n",
              "    </tr>\n",
              "    <tr>\n",
              "      <th>145</th>\n",
              "      <td>0.0</td>\n",
              "      <td>0.0</td>\n",
              "      <td>0.0</td>\n",
              "      <td>0.000000e+00</td>\n",
              "      <td>0.0</td>\n",
              "      <td>0.000000</td>\n",
              "      <td>0.0</td>\n",
              "      <td>0.0</td>\n",
              "      <td>0.0</td>\n",
              "      <td>0.000000</td>\n",
              "      <td>1.0</td>\n",
              "      <td>0.0</td>\n",
              "      <td>10</td>\n",
              "    </tr>\n",
              "    <tr>\n",
              "      <th>146</th>\n",
              "      <td>0.0</td>\n",
              "      <td>0.0</td>\n",
              "      <td>1.0</td>\n",
              "      <td>0.000000e+00</td>\n",
              "      <td>0.0</td>\n",
              "      <td>0.000000</td>\n",
              "      <td>0.0</td>\n",
              "      <td>0.0</td>\n",
              "      <td>0.0</td>\n",
              "      <td>0.000000</td>\n",
              "      <td>0.0</td>\n",
              "      <td>0.0</td>\n",
              "      <td>2</td>\n",
              "    </tr>\n",
              "    <tr>\n",
              "      <th>147</th>\n",
              "      <td>0.0</td>\n",
              "      <td>0.0</td>\n",
              "      <td>0.0</td>\n",
              "      <td>0.000000e+00</td>\n",
              "      <td>0.0</td>\n",
              "      <td>0.000000</td>\n",
              "      <td>0.0</td>\n",
              "      <td>0.0</td>\n",
              "      <td>0.0</td>\n",
              "      <td>1.000000</td>\n",
              "      <td>0.0</td>\n",
              "      <td>0.0</td>\n",
              "      <td>9</td>\n",
              "    </tr>\n",
              "  </tbody>\n",
              "</table>\n",
              "<p>148 rows × 13 columns</p>\n",
              "</div>"
            ],
            "text/plain": [
              "       0    1    2             3    4  ...    8         9   10   11  max\n",
              "0    0.0  0.0  0.0  1.594841e-30  1.0  ...  0.0  0.000000  0.0  0.0    4\n",
              "1    0.0  0.0  0.0  0.000000e+00  1.0  ...  0.0  0.000000  0.0  0.0    4\n",
              "2    0.0  0.0  0.0  0.000000e+00  0.0  ...  0.0  1.000000  0.0  0.0    9\n",
              "3    0.0  0.0  0.0  0.000000e+00  0.0  ...  0.0  0.031413  0.0  0.0    5\n",
              "4    0.0  0.0  0.0  0.000000e+00  0.0  ...  0.0  1.000000  0.0  0.0    9\n",
              "..   ...  ...  ...           ...  ...  ...  ...       ...  ...  ...  ...\n",
              "143  1.0  0.0  0.0  0.000000e+00  0.0  ...  0.0  0.000000  0.0  0.0    0\n",
              "144  0.0  0.0  0.0  0.000000e+00  0.0  ...  1.0  0.000000  0.0  0.0    8\n",
              "145  0.0  0.0  0.0  0.000000e+00  0.0  ...  0.0  0.000000  1.0  0.0   10\n",
              "146  0.0  0.0  1.0  0.000000e+00  0.0  ...  0.0  0.000000  0.0  0.0    2\n",
              "147  0.0  0.0  0.0  0.000000e+00  0.0  ...  0.0  1.000000  0.0  0.0    9\n",
              "\n",
              "[148 rows x 13 columns]"
            ]
          },
          "metadata": {
            "tags": []
          },
          "execution_count": 65
        }
      ]
    },
    {
      "cell_type": "code",
      "metadata": {
        "id": "uAUKV6uM_B3K",
        "colab_type": "code",
        "colab": {
          "base_uri": "https://localhost:8080/",
          "height": 327
        },
        "outputId": "4646d967-9c78-4a2d-e8a7-3f430e06e7a8"
      },
      "source": [
        "history_dict = history.history\n",
        "loss_values = np.log(history_dict['loss']) \n",
        "val_loss_values = np.log(history_dict['val_loss']) \n",
        "epochs = range(1, len(loss_values) + 1) \n",
        "plt.plot(epochs, loss_values, 'bo', label='Training Loss')\n",
        "plt.plot(epochs, val_loss_values, 'orange', label='Validation Loss')\n",
        "plt.title('Training and validation loss')\n",
        "plt.xlabel('Epochs')\n",
        "plt.ylabel('Loss')\n",
        "plt.legend()\n",
        "plt.show()  #this model KICKS BUTT, CNN was nearly perfect at identifying notes"
      ],
      "execution_count": null,
      "outputs": [
        {
          "output_type": "stream",
          "text": [
            "/usr/local/lib/python3.6/dist-packages/ipykernel_launcher.py:2: RuntimeWarning: divide by zero encountered in log\n",
            "  \n"
          ],
          "name": "stderr"
        },
        {
          "output_type": "display_data",
          "data": {
            "image/png": "[encoded data removed]",
            "text/plain": [
              "<Figure size 432x288 with 1 Axes>"
            ]
          },
          "metadata": {
            "tags": []
          }
        }
      ]
    },
    {
      "cell_type": "code",
      "metadata": {
        "id": "l42lw7QhTcof",
        "colab_type": "code",
        "colab": {}
      },
      "source": [
        "#yhat_train_classes = model2.predict_classes(x_train, verbose=0) <-- These do not work right now for some reason due to memory leaks\n",
        "#yhat_test_classes = model2.predict_classes(x_val, verbose=0)\n"
      ],
      "execution_count": null,
      "outputs": []
    },
    {
      "cell_type": "code",
      "metadata": {
        "id": "XZLBnnGH_Uw6",
        "colab_type": "code",
        "colab": {
          "base_uri": "https://localhost:8080/",
          "height": 537
        },
        "outputId": "9d734df9-45c1-4327-bf8f-23cd2532d570"
      },
      "source": [
        "#Training results\n",
        "yhat_train_classes = np.array(y_pred_probs1['max'])\n",
        "\n",
        "#predicted values\n",
        "myPreds = np.ndarray.flatten(yhat_train_classes)\n",
        "myPreds = pd.DataFrame(myPreds)\n",
        "myPreds.reset_index(drop=True)\n",
        "myPreds.rename(columns={0: \"pred\"}, inplace=True)\n",
        "#actual values\n",
        "myActual = pd.DataFrame(np.array(y_traini))\n",
        "myActual.reset_index(drop=True)\n",
        "myActual.rename(columns={0: \"actual\"}, inplace=True)\n",
        "allResults = pd.concat([myActual,myPreds], axis=1)\n",
        "allResults.info()\n",
        "allResults['pred_class'] = allResults['pred']\n",
        "allResults.loc[(allResults.pred==0),'pred_class']='A#'\n",
        "allResults.loc[(allResults.pred==1),'pred_class']='A'\n",
        "allResults.loc[(allResults.pred==2),'pred_class']='B'\n",
        "allResults.loc[(allResults.pred==3),'pred_class']='C#'\n",
        "allResults.loc[(allResults.pred==4),'pred_class']='C'\n",
        "allResults.loc[(allResults.pred==5),'pred_class']='D#'\n",
        "allResults.loc[(allResults.pred==6),'pred_class']='D'\n",
        "allResults.loc[(allResults.pred==7),'pred_class']='E'\n",
        "allResults.loc[(allResults.pred==8),'pred_class']='F#'\n",
        "allResults.loc[(allResults.pred==9),'pred_class']='F'\n",
        "allResults.loc[(allResults.pred==10),'pred_class']='G#'\n",
        "allResults.loc[(allResults.pred==11),'pred_class']='G'\n",
        "allResults.to_csv(r'/content/drive/My Drive/Colab Notebooks/project/Model Results/Training2.csv',index = None, header=True)\n",
        "allResults"
      ],
      "execution_count": null,
      "outputs": [
        {
          "output_type": "stream",
          "text": [
            "<class 'pandas.core.frame.DataFrame'>\n",
            "RangeIndex: 222 entries, 0 to 221\n",
            "Data columns (total 2 columns):\n",
            " #   Column  Non-Null Count  Dtype\n",
            "---  ------  --------------  -----\n",
            " 0   actual  222 non-null    int64\n",
            " 1   pred    222 non-null    int64\n",
            "dtypes: int64(2)\n",
            "memory usage: 3.6 KB\n"
          ],
          "name": "stdout"
        },
        {
          "output_type": "execute_result",
          "data": {
            "text/html": [
              "<div>\n",
              "<style scoped>\n",
              "    .dataframe tbody tr th:only-of-type {\n",
              "        vertical-align: middle;\n",
              "    }\n",
              "\n",
              "    .dataframe tbody tr th {\n",
              "        vertical-align: top;\n",
              "    }\n",
              "\n",
              "    .dataframe thead th {\n",
              "        text-align: right;\n",
              "    }\n",
              "</style>\n",
              "<table border=\"1\" class=\"dataframe\">\n",
              "  <thead>\n",
              "    <tr style=\"text-align: right;\">\n",
              "      <th></th>\n",
              "      <th>actual</th>\n",
              "      <th>pred</th>\n",
              "      <th>pred_class</th>\n",
              "    </tr>\n",
              "  </thead>\n",
              "  <tbody>\n",
              "    <tr>\n",
              "      <th>0</th>\n",
              "      <td>5</td>\n",
              "      <td>5</td>\n",
              "      <td>D#</td>\n",
              "    </tr>\n",
              "    <tr>\n",
              "      <th>1</th>\n",
              "      <td>2</td>\n",
              "      <td>2</td>\n",
              "      <td>B</td>\n",
              "    </tr>\n",
              "    <tr>\n",
              "      <th>2</th>\n",
              "      <td>8</td>\n",
              "      <td>8</td>\n",
              "      <td>F#</td>\n",
              "    </tr>\n",
              "    <tr>\n",
              "      <th>3</th>\n",
              "      <td>10</td>\n",
              "      <td>10</td>\n",
              "      <td>G#</td>\n",
              "    </tr>\n",
              "    <tr>\n",
              "      <th>4</th>\n",
              "      <td>4</td>\n",
              "      <td>4</td>\n",
              "      <td>C</td>\n",
              "    </tr>\n",
              "    <tr>\n",
              "      <th>...</th>\n",
              "      <td>...</td>\n",
              "      <td>...</td>\n",
              "      <td>...</td>\n",
              "    </tr>\n",
              "    <tr>\n",
              "      <th>217</th>\n",
              "      <td>11</td>\n",
              "      <td>11</td>\n",
              "      <td>G</td>\n",
              "    </tr>\n",
              "    <tr>\n",
              "      <th>218</th>\n",
              "      <td>2</td>\n",
              "      <td>2</td>\n",
              "      <td>B</td>\n",
              "    </tr>\n",
              "    <tr>\n",
              "      <th>219</th>\n",
              "      <td>2</td>\n",
              "      <td>2</td>\n",
              "      <td>B</td>\n",
              "    </tr>\n",
              "    <tr>\n",
              "      <th>220</th>\n",
              "      <td>11</td>\n",
              "      <td>11</td>\n",
              "      <td>G</td>\n",
              "    </tr>\n",
              "    <tr>\n",
              "      <th>221</th>\n",
              "      <td>8</td>\n",
              "      <td>8</td>\n",
              "      <td>F#</td>\n",
              "    </tr>\n",
              "  </tbody>\n",
              "</table>\n",
              "<p>222 rows × 3 columns</p>\n",
              "</div>"
            ],
            "text/plain": [
              "     actual  pred pred_class\n",
              "0         5     5         D#\n",
              "1         2     2          B\n",
              "2         8     8         F#\n",
              "3        10    10         G#\n",
              "4         4     4          C\n",
              "..      ...   ...        ...\n",
              "217      11    11          G\n",
              "218       2     2          B\n",
              "219       2     2          B\n",
              "220      11    11          G\n",
              "221       8     8         F#\n",
              "\n",
              "[222 rows x 3 columns]"
            ]
          },
          "metadata": {
            "tags": []
          },
          "execution_count": 61
        }
      ]
    },
    {
      "cell_type": "code",
      "metadata": {
        "id": "NChuRJrx_fJF",
        "colab_type": "code",
        "colab": {
          "base_uri": "https://localhost:8080/",
          "height": 391
        },
        "outputId": "f9ba422e-bab8-45f2-f679-34286183e2d3"
      },
      "source": [
        "# Test results\n",
        "yhat_test_classes = np.array(y_pred_probs3['max'])\n",
        "#predicted values\n",
        "myPreds = np.ndarray.flatten(yhat_test_classes)\n",
        "myPreds = pd.DataFrame(myPreds)\n",
        "myPreds.reset_index(drop=True)\n",
        "myPreds.rename(columns={0: \"test\"}, inplace=True)\n",
        "#actual predictions\n",
        "myActual = pd.DataFrame(np.array(y_testi))\n",
        "myActual.reset_index(drop=True)\n",
        "myActual.rename(columns={0: \"actual\"}, inplace=True)\n",
        "allResults = pd.concat([myActual,myPreds], axis=1)\n",
        "allResults['test_class'] = allResults['test']\n",
        "allResults.loc[(allResults.test==0),'test_class']='A#'\n",
        "allResults.loc[(allResults.test==1),'test_class']='A'\n",
        "allResults.loc[(allResults.test==2),'test_class']='B'\n",
        "allResults.loc[(allResults.test==3),'test_class']='C#'\n",
        "allResults.loc[(allResults.test==4),'test_class']='C'\n",
        "allResults.loc[(allResults.test==5),'test_class']='D#'\n",
        "allResults.loc[(allResults.test==6),'test_class']='D'\n",
        "allResults.loc[(allResults.test==7),'test_class']='E'\n",
        "allResults.loc[(allResults.test==8),'test_class']='F#'\n",
        "allResults.loc[(allResults.test==9),'test_class']='F'\n",
        "allResults.loc[(allResults.test==10),'test_class']='G#'\n",
        "allResults.loc[(allResults.test==11),'test_class']='G'\n",
        "allResults.to_csv(r'/content/drive/My Drive/Colab Notebooks/project/Model Results/Testing2.csv',index = None, header=True)\n",
        "allResults"
      ],
      "execution_count": null,
      "outputs": [
        {
          "output_type": "execute_result",
          "data": {
            "text/html": [
              "<div>\n",
              "<style scoped>\n",
              "    .dataframe tbody tr th:only-of-type {\n",
              "        vertical-align: middle;\n",
              "    }\n",
              "\n",
              "    .dataframe tbody tr th {\n",
              "        vertical-align: top;\n",
              "    }\n",
              "\n",
              "    .dataframe thead th {\n",
              "        text-align: right;\n",
              "    }\n",
              "</style>\n",
              "<table border=\"1\" class=\"dataframe\">\n",
              "  <thead>\n",
              "    <tr style=\"text-align: right;\">\n",
              "      <th></th>\n",
              "      <th>actual</th>\n",
              "      <th>test</th>\n",
              "      <th>test_class</th>\n",
              "    </tr>\n",
              "  </thead>\n",
              "  <tbody>\n",
              "    <tr>\n",
              "      <th>0</th>\n",
              "      <td>4</td>\n",
              "      <td>4</td>\n",
              "      <td>C</td>\n",
              "    </tr>\n",
              "    <tr>\n",
              "      <th>1</th>\n",
              "      <td>4</td>\n",
              "      <td>4</td>\n",
              "      <td>C</td>\n",
              "    </tr>\n",
              "    <tr>\n",
              "      <th>2</th>\n",
              "      <td>9</td>\n",
              "      <td>9</td>\n",
              "      <td>F</td>\n",
              "    </tr>\n",
              "    <tr>\n",
              "      <th>3</th>\n",
              "      <td>5</td>\n",
              "      <td>5</td>\n",
              "      <td>D#</td>\n",
              "    </tr>\n",
              "    <tr>\n",
              "      <th>4</th>\n",
              "      <td>9</td>\n",
              "      <td>9</td>\n",
              "      <td>F</td>\n",
              "    </tr>\n",
              "    <tr>\n",
              "      <th>...</th>\n",
              "      <td>...</td>\n",
              "      <td>...</td>\n",
              "      <td>...</td>\n",
              "    </tr>\n",
              "    <tr>\n",
              "      <th>143</th>\n",
              "      <td>0</td>\n",
              "      <td>0</td>\n",
              "      <td>A#</td>\n",
              "    </tr>\n",
              "    <tr>\n",
              "      <th>144</th>\n",
              "      <td>8</td>\n",
              "      <td>8</td>\n",
              "      <td>F#</td>\n",
              "    </tr>\n",
              "    <tr>\n",
              "      <th>145</th>\n",
              "      <td>10</td>\n",
              "      <td>10</td>\n",
              "      <td>G#</td>\n",
              "    </tr>\n",
              "    <tr>\n",
              "      <th>146</th>\n",
              "      <td>2</td>\n",
              "      <td>2</td>\n",
              "      <td>B</td>\n",
              "    </tr>\n",
              "    <tr>\n",
              "      <th>147</th>\n",
              "      <td>9</td>\n",
              "      <td>9</td>\n",
              "      <td>F</td>\n",
              "    </tr>\n",
              "  </tbody>\n",
              "</table>\n",
              "<p>148 rows × 3 columns</p>\n",
              "</div>"
            ],
            "text/plain": [
              "     actual  test test_class\n",
              "0         4     4          C\n",
              "1         4     4          C\n",
              "2         9     9          F\n",
              "3         5     5         D#\n",
              "4         9     9          F\n",
              "..      ...   ...        ...\n",
              "143       0     0         A#\n",
              "144       8     8         F#\n",
              "145      10    10         G#\n",
              "146       2     2          B\n",
              "147       9     9          F\n",
              "\n",
              "[148 rows x 3 columns]"
            ]
          },
          "metadata": {
            "tags": []
          },
          "execution_count": 67
        }
      ]
    },
    {
      "cell_type": "code",
      "metadata": {
        "id": "83_W2zqL_3OH",
        "colab_type": "code",
        "colab": {
          "base_uri": "https://localhost:8080/",
          "height": 537
        },
        "outputId": "bac883ed-625e-4977-baaa-3b91b2c4e246"
      },
      "source": [
        "#Confusion Matrix and Classification Report\n",
        "from sklearn.tree import DecisionTreeClassifier\n",
        "from sklearn.metrics import classification_report, confusion_matrix\n",
        "\n",
        "y_true = y_testi\n",
        "y_pred = yhat_test_classes\n",
        "target_names = ['A#','A','B','C#','C','D#','D','E','F#','F','G#','G'] \n",
        "\n",
        "print(classification_report(y_true, y_pred, target_names=target_names))\n",
        "\n",
        "yhat_classes = yhat_test_classes\n",
        "\n",
        "\n",
        "matrix = confusion_matrix(y_testi, y_pred)\n",
        "matrix = pd.DataFrame(matrix)\n",
        "matrix.index = ['A#','A','B','C#','C','D#','D','E','F#','F','G#','G'] \n",
        "matrix.columns=['A#','A','B','C#','C','D#','D','E','F#','F','G#','G']\n",
        "print(matrix)"
      ],
      "execution_count": null,
      "outputs": [
        {
          "output_type": "stream",
          "text": [
            "              precision    recall  f1-score   support\n",
            "\n",
            "          A#       1.00      1.00      1.00        12\n",
            "           A       1.00      1.00      1.00        12\n",
            "           B       1.00      1.00      1.00        12\n",
            "          C#       0.86      1.00      0.92        12\n",
            "           C       1.00      1.00      1.00        12\n",
            "          D#       1.00      1.00      1.00        12\n",
            "           D       1.00      0.83      0.91        12\n",
            "           E       1.00      1.00      1.00        16\n",
            "          F#       1.00      1.00      1.00        12\n",
            "           F       1.00      1.00      1.00        12\n",
            "          G#       1.00      1.00      1.00        12\n",
            "           G       1.00      1.00      1.00        12\n",
            "\n",
            "    accuracy                           0.99       148\n",
            "   macro avg       0.99      0.99      0.99       148\n",
            "weighted avg       0.99      0.99      0.99       148\n",
            "\n",
            "    A#   A   B  C#   C  D#   D   E  F#   F  G#   G\n",
            "A#  12   0   0   0   0   0   0   0   0   0   0   0\n",
            "A    0  12   0   0   0   0   0   0   0   0   0   0\n",
            "B    0   0  12   0   0   0   0   0   0   0   0   0\n",
            "C#   0   0   0  12   0   0   0   0   0   0   0   0\n",
            "C    0   0   0   0  12   0   0   0   0   0   0   0\n",
            "D#   0   0   0   0   0  12   0   0   0   0   0   0\n",
            "D    0   0   0   2   0   0  10   0   0   0   0   0\n",
            "E    0   0   0   0   0   0   0  16   0   0   0   0\n",
            "F#   0   0   0   0   0   0   0   0  12   0   0   0\n",
            "F    0   0   0   0   0   0   0   0   0  12   0   0\n",
            "G#   0   0   0   0   0   0   0   0   0   0  12   0\n",
            "G    0   0   0   0   0   0   0   0   0   0   0  12\n"
          ],
          "name": "stdout"
        }
      ]
    },
    {
      "cell_type": "markdown",
      "metadata": {
        "id": "GSBqxe8hvciY",
        "colab_type": "text"
      },
      "source": [
        "Excellent model results,  it should be expected that this model performs better.  Each note recording should produce a consisent spectogram/image.\n",
        "\n",
        "The only error this model had, predicted just ONE halfstep (note not interval difference) incorrectly.  C# and D are adjacent notes in the chromatic scale (all the 12 notes in order)"
      ]
    }
  ]
}